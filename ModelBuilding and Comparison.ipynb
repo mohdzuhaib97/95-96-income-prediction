{
 "cells": [
  {
   "cell_type": "code",
   "execution_count": 2,
   "metadata": {},
   "outputs": [],
   "source": [
    "import numpy as np\n",
    "import pandas as pd\n",
    "import matplotlib.pyplot as plt\n",
    "import seaborn as sns\n",
    "import warnings\n",
    "warnings.filterwarnings('ignore')"
   ]
  },
  {
   "cell_type": "code",
   "execution_count": 3,
   "metadata": {},
   "outputs": [
    {
     "data": {
      "text/html": [
       "<div>\n",
       "<style scoped>\n",
       "    .dataframe tbody tr th:only-of-type {\n",
       "        vertical-align: middle;\n",
       "    }\n",
       "\n",
       "    .dataframe tbody tr th {\n",
       "        vertical-align: top;\n",
       "    }\n",
       "\n",
       "    .dataframe thead th {\n",
       "        text-align: right;\n",
       "    }\n",
       "</style>\n",
       "<table border=\"1\" class=\"dataframe\">\n",
       "  <thead>\n",
       "    <tr style=\"text-align: right;\">\n",
       "      <th></th>\n",
       "      <th>Unnamed: 0</th>\n",
       "      <th>industry code</th>\n",
       "      <th>occupation code</th>\n",
       "      <th>class of worker</th>\n",
       "      <th>wage per hour</th>\n",
       "      <th>capital</th>\n",
       "      <th>divdends from stocks</th>\n",
       "      <th>marital status</th>\n",
       "      <th>race</th>\n",
       "      <th>sex</th>\n",
       "      <th>...</th>\n",
       "      <th>weeks worked in year</th>\n",
       "      <th>education</th>\n",
       "      <th>full or part time employment stat</th>\n",
       "      <th>tax filer status</th>\n",
       "      <th>own business or self employed</th>\n",
       "      <th>veterans benefits</th>\n",
       "      <th>employment status</th>\n",
       "      <th>num persons worked for employer</th>\n",
       "      <th>Citizenship_combined</th>\n",
       "      <th>total person income</th>\n",
       "    </tr>\n",
       "  </thead>\n",
       "  <tbody>\n",
       "    <tr>\n",
       "      <td>0</td>\n",
       "      <td>0</td>\n",
       "      <td>Not in universe</td>\n",
       "      <td>Not in universe</td>\n",
       "      <td>Not in universe</td>\n",
       "      <td>0</td>\n",
       "      <td>0</td>\n",
       "      <td>0</td>\n",
       "      <td>Single</td>\n",
       "      <td>White</td>\n",
       "      <td>Female</td>\n",
       "      <td>...</td>\n",
       "      <td>0</td>\n",
       "      <td>2</td>\n",
       "      <td>Not in labor force</td>\n",
       "      <td>Nonfiler</td>\n",
       "      <td>0</td>\n",
       "      <td>2</td>\n",
       "      <td>Not in universe</td>\n",
       "      <td>0</td>\n",
       "      <td>Native</td>\n",
       "      <td>-50000</td>\n",
       "    </tr>\n",
       "    <tr>\n",
       "      <td>1</td>\n",
       "      <td>1</td>\n",
       "      <td>Construction</td>\n",
       "      <td>Precision production, craft and repair</td>\n",
       "      <td>Self-employed</td>\n",
       "      <td>0</td>\n",
       "      <td>0</td>\n",
       "      <td>0</td>\n",
       "      <td>Single</td>\n",
       "      <td>White</td>\n",
       "      <td>Male</td>\n",
       "      <td>...</td>\n",
       "      <td>2</td>\n",
       "      <td>2</td>\n",
       "      <td>Children or Armed Forces</td>\n",
       "      <td>Head of household</td>\n",
       "      <td>0</td>\n",
       "      <td>2</td>\n",
       "      <td>employed</td>\n",
       "      <td>1</td>\n",
       "      <td>Native</td>\n",
       "      <td>-50000</td>\n",
       "    </tr>\n",
       "    <tr>\n",
       "      <td>2</td>\n",
       "      <td>2</td>\n",
       "      <td>Unemployed or studying</td>\n",
       "      <td>Unemployed or studying</td>\n",
       "      <td>Unemployed or studying</td>\n",
       "      <td>0</td>\n",
       "      <td>0</td>\n",
       "      <td>0</td>\n",
       "      <td>Single</td>\n",
       "      <td>Minority</td>\n",
       "      <td>Female</td>\n",
       "      <td>...</td>\n",
       "      <td>0</td>\n",
       "      <td>2</td>\n",
       "      <td>Not in labor force</td>\n",
       "      <td>Nonfiler</td>\n",
       "      <td>0</td>\n",
       "      <td>2</td>\n",
       "      <td>Not in universe</td>\n",
       "      <td>0</td>\n",
       "      <td>Foreign born- Not a citizen of U S</td>\n",
       "      <td>-50000</td>\n",
       "    </tr>\n",
       "    <tr>\n",
       "      <td>3</td>\n",
       "      <td>3</td>\n",
       "      <td>Children</td>\n",
       "      <td>Children</td>\n",
       "      <td>Children</td>\n",
       "      <td>0</td>\n",
       "      <td>0</td>\n",
       "      <td>0</td>\n",
       "      <td>Single</td>\n",
       "      <td>White</td>\n",
       "      <td>Female</td>\n",
       "      <td>...</td>\n",
       "      <td>0</td>\n",
       "      <td>0</td>\n",
       "      <td>Children or Armed Forces</td>\n",
       "      <td>Nonfiler</td>\n",
       "      <td>0</td>\n",
       "      <td>0</td>\n",
       "      <td>children</td>\n",
       "      <td>0</td>\n",
       "      <td>Native</td>\n",
       "      <td>-50000</td>\n",
       "    </tr>\n",
       "    <tr>\n",
       "      <td>4</td>\n",
       "      <td>4</td>\n",
       "      <td>Children</td>\n",
       "      <td>Children</td>\n",
       "      <td>Children</td>\n",
       "      <td>0</td>\n",
       "      <td>0</td>\n",
       "      <td>0</td>\n",
       "      <td>Single</td>\n",
       "      <td>White</td>\n",
       "      <td>Female</td>\n",
       "      <td>...</td>\n",
       "      <td>0</td>\n",
       "      <td>0</td>\n",
       "      <td>Children or Armed Forces</td>\n",
       "      <td>Nonfiler</td>\n",
       "      <td>0</td>\n",
       "      <td>0</td>\n",
       "      <td>children</td>\n",
       "      <td>0</td>\n",
       "      <td>Native</td>\n",
       "      <td>-50000</td>\n",
       "    </tr>\n",
       "  </tbody>\n",
       "</table>\n",
       "<p>5 rows × 22 columns</p>\n",
       "</div>"
      ],
      "text/plain": [
       "   Unnamed: 0           industry code                         occupation code  \\\n",
       "0           0         Not in universe                         Not in universe   \n",
       "1           1            Construction  Precision production, craft and repair   \n",
       "2           2  Unemployed or studying                  Unemployed or studying   \n",
       "3           3                Children                                Children   \n",
       "4           4                Children                                Children   \n",
       "\n",
       "          class of worker  wage per hour  capital  divdends from stocks  \\\n",
       "0         Not in universe              0        0                     0   \n",
       "1           Self-employed              0        0                     0   \n",
       "2  Unemployed or studying              0        0                     0   \n",
       "3                Children              0        0                     0   \n",
       "4                Children              0        0                     0   \n",
       "\n",
       "  marital status      race      sex  ... weeks worked in year  education  \\\n",
       "0         Single     White   Female  ...                    0          2   \n",
       "1         Single     White     Male  ...                    2          2   \n",
       "2         Single  Minority   Female  ...                    0          2   \n",
       "3         Single     White   Female  ...                    0          0   \n",
       "4         Single     White   Female  ...                    0          0   \n",
       "\n",
       "   full or part time employment stat    tax filer status  \\\n",
       "0                 Not in labor force            Nonfiler   \n",
       "1           Children or Armed Forces   Head of household   \n",
       "2                 Not in labor force            Nonfiler   \n",
       "3           Children or Armed Forces            Nonfiler   \n",
       "4           Children or Armed Forces            Nonfiler   \n",
       "\n",
       "  own business or self employed  veterans benefits  employment status  \\\n",
       "0                              0                 2    Not in universe   \n",
       "1                              0                 2           employed   \n",
       "2                              0                 2    Not in universe   \n",
       "3                              0                 0           children   \n",
       "4                              0                 0           children   \n",
       "\n",
       "   num persons worked for employer                  Citizenship_combined  \\\n",
       "0                                0                                Native   \n",
       "1                                1                                Native   \n",
       "2                                0   Foreign born- Not a citizen of U S    \n",
       "3                                0                                Native   \n",
       "4                                0                                Native   \n",
       "\n",
       "   total person income  \n",
       "0               -50000  \n",
       "1               -50000  \n",
       "2               -50000  \n",
       "3               -50000  \n",
       "4               -50000  \n",
       "\n",
       "[5 rows x 22 columns]"
      ]
     },
     "execution_count": 3,
     "metadata": {},
     "output_type": "execute_result"
    }
   ],
   "source": [
    "train = pd.read_csv('train_data_eda.csv')\n",
    "train.head()"
   ]
  },
  {
   "cell_type": "code",
   "execution_count": 4,
   "metadata": {},
   "outputs": [
    {
     "data": {
      "text/html": [
       "<div>\n",
       "<style scoped>\n",
       "    .dataframe tbody tr th:only-of-type {\n",
       "        vertical-align: middle;\n",
       "    }\n",
       "\n",
       "    .dataframe tbody tr th {\n",
       "        vertical-align: top;\n",
       "    }\n",
       "\n",
       "    .dataframe thead th {\n",
       "        text-align: right;\n",
       "    }\n",
       "</style>\n",
       "<table border=\"1\" class=\"dataframe\">\n",
       "  <thead>\n",
       "    <tr style=\"text-align: right;\">\n",
       "      <th></th>\n",
       "      <th>Unnamed: 0</th>\n",
       "      <th>industry code</th>\n",
       "      <th>occupation code</th>\n",
       "      <th>class of worker</th>\n",
       "      <th>wage per hour</th>\n",
       "      <th>capital</th>\n",
       "      <th>divdends from stocks</th>\n",
       "      <th>marital status</th>\n",
       "      <th>race</th>\n",
       "      <th>sex</th>\n",
       "      <th>...</th>\n",
       "      <th>weeks worked in year</th>\n",
       "      <th>education</th>\n",
       "      <th>full or part time employment stat</th>\n",
       "      <th>tax filer status</th>\n",
       "      <th>own business or self employed</th>\n",
       "      <th>veterans benefits</th>\n",
       "      <th>employment status</th>\n",
       "      <th>num persons worked for employer</th>\n",
       "      <th>Citizenship_combined</th>\n",
       "      <th>total person income</th>\n",
       "    </tr>\n",
       "  </thead>\n",
       "  <tbody>\n",
       "    <tr>\n",
       "      <td>0</td>\n",
       "      <td>0</td>\n",
       "      <td>Manufacturing</td>\n",
       "      <td>Operators, fabricators and laborers</td>\n",
       "      <td>Private</td>\n",
       "      <td>0</td>\n",
       "      <td>0</td>\n",
       "      <td>0</td>\n",
       "      <td>Married</td>\n",
       "      <td>White</td>\n",
       "      <td>Female</td>\n",
       "      <td>...</td>\n",
       "      <td>1</td>\n",
       "      <td>1</td>\n",
       "      <td>Full-time schedules</td>\n",
       "      <td>Joint one under 65 &amp; one 65+</td>\n",
       "      <td>0</td>\n",
       "      <td>2</td>\n",
       "      <td>employed</td>\n",
       "      <td>4</td>\n",
       "      <td>Foreign born- Not a citizen of U S</td>\n",
       "      <td>-50000</td>\n",
       "    </tr>\n",
       "    <tr>\n",
       "      <td>1</td>\n",
       "      <td>1</td>\n",
       "      <td>Services</td>\n",
       "      <td>Managerial and professional speciality</td>\n",
       "      <td>Self-employed</td>\n",
       "      <td>0</td>\n",
       "      <td>0</td>\n",
       "      <td>2500</td>\n",
       "      <td>Married</td>\n",
       "      <td>White</td>\n",
       "      <td>Female</td>\n",
       "      <td>...</td>\n",
       "      <td>1</td>\n",
       "      <td>5</td>\n",
       "      <td>PT for econ reasons usually PT</td>\n",
       "      <td>Joint both under 65</td>\n",
       "      <td>0</td>\n",
       "      <td>2</td>\n",
       "      <td>employed</td>\n",
       "      <td>1</td>\n",
       "      <td>Native</td>\n",
       "      <td>-50000</td>\n",
       "    </tr>\n",
       "    <tr>\n",
       "      <td>2</td>\n",
       "      <td>2</td>\n",
       "      <td>Children</td>\n",
       "      <td>Children</td>\n",
       "      <td>Children</td>\n",
       "      <td>0</td>\n",
       "      <td>0</td>\n",
       "      <td>0</td>\n",
       "      <td>Single</td>\n",
       "      <td>White</td>\n",
       "      <td>Male</td>\n",
       "      <td>...</td>\n",
       "      <td>0</td>\n",
       "      <td>0</td>\n",
       "      <td>Children or Armed Forces</td>\n",
       "      <td>Nonfiler</td>\n",
       "      <td>0</td>\n",
       "      <td>0</td>\n",
       "      <td>children</td>\n",
       "      <td>0</td>\n",
       "      <td>Native</td>\n",
       "      <td>-50000</td>\n",
       "    </tr>\n",
       "    <tr>\n",
       "      <td>3</td>\n",
       "      <td>3</td>\n",
       "      <td>Transportation and public utilities</td>\n",
       "      <td>Managerial and professional speciality</td>\n",
       "      <td>Private</td>\n",
       "      <td>0</td>\n",
       "      <td>0</td>\n",
       "      <td>0</td>\n",
       "      <td>Single</td>\n",
       "      <td>White</td>\n",
       "      <td>Female</td>\n",
       "      <td>...</td>\n",
       "      <td>2</td>\n",
       "      <td>2</td>\n",
       "      <td>Children or Armed Forces</td>\n",
       "      <td>Head of household</td>\n",
       "      <td>2</td>\n",
       "      <td>2</td>\n",
       "      <td>employed</td>\n",
       "      <td>5</td>\n",
       "      <td>Native</td>\n",
       "      <td>-50000</td>\n",
       "    </tr>\n",
       "    <tr>\n",
       "      <td>4</td>\n",
       "      <td>4</td>\n",
       "      <td>Construction</td>\n",
       "      <td>Precision production, craft and repair</td>\n",
       "      <td>Private</td>\n",
       "      <td>0</td>\n",
       "      <td>0</td>\n",
       "      <td>0</td>\n",
       "      <td>Single</td>\n",
       "      <td>White</td>\n",
       "      <td>Male</td>\n",
       "      <td>...</td>\n",
       "      <td>2</td>\n",
       "      <td>2</td>\n",
       "      <td>Full-time schedules</td>\n",
       "      <td>Single</td>\n",
       "      <td>0</td>\n",
       "      <td>2</td>\n",
       "      <td>employed</td>\n",
       "      <td>4</td>\n",
       "      <td>Native</td>\n",
       "      <td>-50000</td>\n",
       "    </tr>\n",
       "  </tbody>\n",
       "</table>\n",
       "<p>5 rows × 22 columns</p>\n",
       "</div>"
      ],
      "text/plain": [
       "   Unnamed: 0                        industry code  \\\n",
       "0           0                        Manufacturing   \n",
       "1           1                             Services   \n",
       "2           2                             Children   \n",
       "3           3  Transportation and public utilities   \n",
       "4           4                         Construction   \n",
       "\n",
       "                          occupation code class of worker  wage per hour  \\\n",
       "0     Operators, fabricators and laborers         Private              0   \n",
       "1  Managerial and professional speciality   Self-employed              0   \n",
       "2                                Children        Children              0   \n",
       "3  Managerial and professional speciality         Private              0   \n",
       "4  Precision production, craft and repair         Private              0   \n",
       "\n",
       "   capital  divdends from stocks marital status    race      sex  ...  \\\n",
       "0        0                     0        Married   White   Female  ...   \n",
       "1        0                  2500        Married   White   Female  ...   \n",
       "2        0                     0         Single   White     Male  ...   \n",
       "3        0                     0         Single   White   Female  ...   \n",
       "4        0                     0         Single   White     Male  ...   \n",
       "\n",
       "  weeks worked in year  education  full or part time employment stat  \\\n",
       "0                    1          1                Full-time schedules   \n",
       "1                    1          5     PT for econ reasons usually PT   \n",
       "2                    0          0           Children or Armed Forces   \n",
       "3                    2          2           Children or Armed Forces   \n",
       "4                    2          2                Full-time schedules   \n",
       "\n",
       "                tax filer status own business or self employed   \\\n",
       "0   Joint one under 65 & one 65+                              0   \n",
       "1            Joint both under 65                              0   \n",
       "2                       Nonfiler                              0   \n",
       "3              Head of household                              2   \n",
       "4                         Single                              0   \n",
       "\n",
       "  veterans benefits  employment status  num persons worked for employer  \\\n",
       "0                 2           employed                                4   \n",
       "1                 2           employed                                1   \n",
       "2                 0           children                                0   \n",
       "3                 2           employed                                5   \n",
       "4                 2           employed                                4   \n",
       "\n",
       "                   Citizenship_combined  total person income  \n",
       "0   Foreign born- Not a citizen of U S                -50000  \n",
       "1                                Native               -50000  \n",
       "2                                Native               -50000  \n",
       "3                                Native               -50000  \n",
       "4                                Native               -50000  \n",
       "\n",
       "[5 rows x 22 columns]"
      ]
     },
     "execution_count": 4,
     "metadata": {},
     "output_type": "execute_result"
    }
   ],
   "source": [
    "test = pd.read_csv('test_data_eda.csv')\n",
    "test.head()"
   ]
  },
  {
   "cell_type": "code",
   "execution_count": 5,
   "metadata": {},
   "outputs": [],
   "source": [
    "train.drop(\"Unnamed: 0\", axis=1,inplace=True)\n",
    "test.drop(\"Unnamed: 0\", axis=1,inplace=True)"
   ]
  },
  {
   "cell_type": "code",
   "execution_count": 6,
   "metadata": {},
   "outputs": [],
   "source": [
    "train['total person income'] = train['total person income'].map({'-50000' : 0, ' 50000+.' : 1})\n",
    "test['total person income'] = test['total person income'].map({'-50000' : 0, ' 50000+.' : 1})"
   ]
  },
  {
   "cell_type": "code",
   "execution_count": 7,
   "metadata": {},
   "outputs": [],
   "source": [
    "X_train = train.drop('total person income',axis=1)\n",
    "y_train = train[['total person income']]\n",
    "\n",
    "X_test = test.drop('total person income',axis=1)\n",
    "y_test = test[['total person income']]\n",
    "test_final = pd.concat([X_test,y_test],axis=1)"
   ]
  },
  {
   "cell_type": "code",
   "execution_count": 8,
   "metadata": {},
   "outputs": [],
   "source": [
    "train_categorical = train.select_dtypes(include=['object'])                 \n",
    "train_numeric = train._get_numeric_data() \n",
    "\n",
    "test_categorical = test.select_dtypes(include=['object'])                  #df = whole dataset\n",
    "test_numeric = test._get_numeric_data()"
   ]
  },
  {
   "cell_type": "code",
   "execution_count": 9,
   "metadata": {},
   "outputs": [],
   "source": [
    "from pandas import get_dummies\n",
    "for i in train_categorical.columns:\n",
    "    train_categorical = pd.concat([train_categorical , get_dummies(train_categorical[i],prefix=i,drop_first=True)],axis=1)\n",
    "    train_categorical.drop(i,axis=1, inplace=True)\n",
    "    test_categorical = pd.concat([test_categorical , get_dummies(test_categorical[i],prefix=i,drop_first=True)],axis=1)\n",
    "    test_categorical.drop(i,axis=1, inplace=True)\n"
   ]
  },
  {
   "cell_type": "code",
   "execution_count": 10,
   "metadata": {},
   "outputs": [
    {
     "data": {
      "text/plain": [
       "(196294, 62)"
      ]
     },
     "execution_count": 10,
     "metadata": {},
     "output_type": "execute_result"
    }
   ],
   "source": [
    "train_categorical.shape"
   ]
  },
  {
   "cell_type": "code",
   "execution_count": 11,
   "metadata": {},
   "outputs": [],
   "source": [
    "train_dummy = pd.concat([train_categorical,train_numeric],axis=1)\n",
    "test_dummy = pd.concat([test_categorical,test_numeric],axis=1)"
   ]
  },
  {
   "cell_type": "code",
   "execution_count": 12,
   "metadata": {},
   "outputs": [
    {
     "data": {
      "text/plain": [
       "(196294, 72)"
      ]
     },
     "execution_count": 12,
     "metadata": {},
     "output_type": "execute_result"
    }
   ],
   "source": [
    "train_dummy.shape"
   ]
  },
  {
   "cell_type": "code",
   "execution_count": 13,
   "metadata": {},
   "outputs": [],
   "source": [
    "X_train_dummy = train_dummy.drop('total person income',axis=1)\n",
    "y_train_dummy = train_dummy[['total person income']]\n",
    "\n",
    "X_test_dummy = test_dummy.drop('total person income',axis=1)\n",
    "y_test_dummy = test_dummy[['total person income']]\n",
    "test_final_dummy = pd.concat([X_test_dummy,y_test_dummy],axis=1)"
   ]
  },
  {
   "cell_type": "markdown",
   "metadata": {},
   "source": [
    "### Logistic model"
   ]
  },
  {
   "cell_type": "code",
   "execution_count": 14,
   "metadata": {},
   "outputs": [
    {
     "data": {
      "text/plain": [
       "LogisticRegression(C=1.0, class_weight=None, dual=False, fit_intercept=True,\n",
       "                   intercept_scaling=1, l1_ratio=None, max_iter=100,\n",
       "                   multi_class='auto', n_jobs=None, penalty='l2',\n",
       "                   random_state=None, solver='lbfgs', tol=0.0001, verbose=0,\n",
       "                   warm_start=False)"
      ]
     },
     "execution_count": 14,
     "metadata": {},
     "output_type": "execute_result"
    }
   ],
   "source": [
    "from sklearn.linear_model import LogisticRegression\n",
    "logreg = LogisticRegression()\n",
    "\n",
    "logreg.fit(X_train_dummy,y_train_dummy)"
   ]
  },
  {
   "cell_type": "code",
   "execution_count": 15,
   "metadata": {},
   "outputs": [],
   "source": [
    "y_pred = logreg.predict(X_test_dummy)\n",
    "y_pred = logreg.predict(X_test_dummy)\n",
    "y_prob = logreg.predict_proba(X_test_dummy)[:,1] \n",
    "\n",
    "from sklearn.metrics import accuracy_score, confusion_matrix, roc_auc_score, roc_curve, auc, classification_report\n",
    "\n",
    "score = accuracy_score(y_test_dummy,y_pred )\n",
    "cm = confusion_matrix(y_test_dummy,y_pred)\n",
    "roc_score = roc_auc_score(y_test_dummy,y_prob)\n",
    "logreg_report=classification_report(y_test_dummy,y_pred)"
   ]
  },
  {
   "cell_type": "code",
   "execution_count": 16,
   "metadata": {},
   "outputs": [
    {
     "data": {
      "text/plain": [
       "0.9413002947013893"
      ]
     },
     "execution_count": 16,
     "metadata": {},
     "output_type": "execute_result"
    }
   ],
   "source": [
    "score"
   ]
  },
  {
   "cell_type": "code",
   "execution_count": 17,
   "metadata": {},
   "outputs": [
    {
     "data": {
      "text/plain": [
       "array([[92757,   819],\n",
       "       [ 5037,  1149]], dtype=int64)"
      ]
     },
     "execution_count": 17,
     "metadata": {},
     "output_type": "execute_result"
    }
   ],
   "source": [
    "cm"
   ]
  },
  {
   "cell_type": "code",
   "execution_count": 18,
   "metadata": {},
   "outputs": [
    {
     "data": {
      "text/plain": [
       "0.8849567584374848"
      ]
     },
     "execution_count": 18,
     "metadata": {},
     "output_type": "execute_result"
    }
   ],
   "source": [
    "roc_score"
   ]
  },
  {
   "cell_type": "code",
   "execution_count": 19,
   "metadata": {},
   "outputs": [
    {
     "data": {
      "image/png": "[encoded data removed]",
      "text/plain": [
       "<Figure size 720x360 with 2 Axes>"
      ]
     },
     "metadata": {
      "needs_background": "light"
     },
     "output_type": "display_data"
    }
   ],
   "source": [
    "####### AUC-ROC-Curve:\n",
    "\n",
    "\n",
    "fpr, tpr, thresh = roc_curve(y_test_dummy, y_prob)\n",
    "thresh[thresh>1] = 1\n",
    "\n",
    "fig,ax = plt.subplots(figsize=(10,5))\n",
    "ax.plot(fpr,tpr)\n",
    "ax.plot(fpr,fpr,'r')\n",
    "ax1 = ax.twinx()\n",
    "ax1.plot(fpr,thresh,'g')\n",
    "plt.show()"
   ]
  },
  {
   "cell_type": "code",
   "execution_count": 20,
   "metadata": {},
   "outputs": [
    {
     "name": "stdout",
     "output_type": "stream",
     "text": [
      "              precision    recall  f1-score   support\n",
      "\n",
      "           0       0.95      0.99      0.97     93576\n",
      "           1       0.58      0.19      0.28      6186\n",
      "\n",
      "    accuracy                           0.94     99762\n",
      "   macro avg       0.77      0.59      0.63     99762\n",
      "weighted avg       0.93      0.94      0.93     99762\n",
      "\n"
     ]
    }
   ],
   "source": [
    "print(logreg_report)"
   ]
  },
  {
   "cell_type": "markdown",
   "metadata": {},
   "source": [
    "### Random Forest"
   ]
  },
  {
   "cell_type": "code",
   "execution_count": 21,
   "metadata": {},
   "outputs": [
    {
     "data": {
      "text/plain": [
       "RandomForestClassifier(bootstrap=True, ccp_alpha=0.0, class_weight=None,\n",
       "                       criterion='gini', max_depth=None, max_features='auto',\n",
       "                       max_leaf_nodes=None, max_samples=None,\n",
       "                       min_impurity_decrease=0.0, min_impurity_split=None,\n",
       "                       min_samples_leaf=1, min_samples_split=2,\n",
       "                       min_weight_fraction_leaf=0.0, n_estimators=100,\n",
       "                       n_jobs=None, oob_score=False, random_state=None,\n",
       "                       verbose=0, warm_start=False)"
      ]
     },
     "execution_count": 21,
     "metadata": {},
     "output_type": "execute_result"
    }
   ],
   "source": [
    "from sklearn.ensemble import RandomForestClassifier\n",
    "rf = RandomForestClassifier()\n",
    "\n",
    "rf.fit(X_train_dummy,y_train_dummy)"
   ]
  },
  {
   "cell_type": "code",
   "execution_count": 22,
   "metadata": {},
   "outputs": [],
   "source": [
    "y_pred = rf.predict(X_test_dummy)\n",
    "y_pred = rf.predict(X_test_dummy)\n",
    "y_prob = rf.predict_proba(X_test_dummy)[:,1] \n",
    "\n",
    "from sklearn.metrics import accuracy_score, confusion_matrix, roc_auc_score, roc_curve, auc, classification_report\n",
    "\n",
    "score = accuracy_score(y_test_dummy,y_pred )\n",
    "cm = confusion_matrix(y_test_dummy,y_pred)\n",
    "roc_score = roc_auc_score(y_test_dummy,y_prob)\n",
    "rf_report=classification_report(y_test_dummy,y_pred)"
   ]
  },
  {
   "cell_type": "code",
   "execution_count": 23,
   "metadata": {},
   "outputs": [
    {
     "data": {
      "text/plain": [
       "0.9503618612297268"
      ]
     },
     "execution_count": 23,
     "metadata": {},
     "output_type": "execute_result"
    }
   ],
   "source": [
    "score"
   ]
  },
  {
   "cell_type": "code",
   "execution_count": 24,
   "metadata": {},
   "outputs": [
    {
     "data": {
      "text/plain": [
       "array([[92211,  1365],\n",
       "       [ 3587,  2599]], dtype=int64)"
      ]
     },
     "execution_count": 24,
     "metadata": {},
     "output_type": "execute_result"
    }
   ],
   "source": [
    "cm"
   ]
  },
  {
   "cell_type": "code",
   "execution_count": 25,
   "metadata": {},
   "outputs": [
    {
     "data": {
      "text/plain": [
       "0.9192086968851197"
      ]
     },
     "execution_count": 25,
     "metadata": {},
     "output_type": "execute_result"
    }
   ],
   "source": [
    "roc_score"
   ]
  },
  {
   "cell_type": "code",
   "execution_count": 26,
   "metadata": {},
   "outputs": [
    {
     "data": {
      "image/png": "[encoded data removed]",
      "text/plain": [
       "<Figure size 720x360 with 2 Axes>"
      ]
     },
     "metadata": {
      "needs_background": "light"
     },
     "output_type": "display_data"
    }
   ],
   "source": [
    "####### AUC-ROC-Curve:\n",
    "\n",
    "\n",
    "fpr, tpr, thresh = roc_curve(y_test_dummy, y_prob)\n",
    "thresh[thresh>1] = 1\n",
    "\n",
    "fig,ax = plt.subplots(figsize=(10,5))\n",
    "ax.plot(fpr,tpr)\n",
    "ax.plot(fpr,fpr,'r')\n",
    "ax1 = ax.twinx()\n",
    "ax1.plot(fpr,thresh,'g')\n",
    "plt.show()"
   ]
  },
  {
   "cell_type": "code",
   "execution_count": 27,
   "metadata": {},
   "outputs": [
    {
     "name": "stdout",
     "output_type": "stream",
     "text": [
      "              precision    recall  f1-score   support\n",
      "\n",
      "           0       0.96      0.99      0.97     93576\n",
      "           1       0.66      0.42      0.51      6186\n",
      "\n",
      "    accuracy                           0.95     99762\n",
      "   macro avg       0.81      0.70      0.74     99762\n",
      "weighted avg       0.94      0.95      0.95     99762\n",
      "\n"
     ]
    }
   ],
   "source": [
    "print(rf_report)"
   ]
  },
  {
   "cell_type": "markdown",
   "metadata": {},
   "source": [
    "#### Features selected from Feature Importance"
   ]
  },
  {
   "cell_type": "code",
   "execution_count": 28,
   "metadata": {},
   "outputs": [
    {
     "name": "stdout",
     "output_type": "stream",
     "text": [
      "industry code_Agriculture, Forestry and Fisheries    0.002375\n",
      "industry code_Armed Forces                           0.000131\n",
      "industry code_Children                               0.000247\n",
      "industry code_Construction                           0.005267\n",
      "industry code_Finance, insurance and real estate     0.008497\n",
      "                                                       ...   \n",
      "weeks worked in year                                 0.028987\n",
      "education                                            0.098225\n",
      "own business or self employed                        0.020518\n",
      "veterans benefits                                    0.004915\n",
      "num persons worked for employer                      0.085012\n",
      "Length: 71, dtype: float64\n"
     ]
    },
    {
     "data": {
      "text/plain": [
       "<matplotlib.axes._subplots.AxesSubplot at 0x2e2be6afb88>"
      ]
     },
     "execution_count": 28,
     "metadata": {},
     "output_type": "execute_result"
    },
    {
     "data": {
      "image/png": "[encoded data removed]",
      "text/plain": [
       "<Figure size 1440x360 with 1 Axes>"
      ]
     },
     "metadata": {
      "needs_background": "light"
     },
     "output_type": "display_data"
    }
   ],
   "source": [
    "imp_features = pd.Series(rf.feature_importances_,index=X_train_dummy.columns)\n",
    "print(imp_features)\n",
    "\n",
    "imp_features[imp_features > 0.005].plot(kind='bar',rot=90,figsize=(20,5))"
   ]
  },
  {
   "cell_type": "code",
   "execution_count": 29,
   "metadata": {},
   "outputs": [
    {
     "data": {
      "text/plain": [
       "19"
      ]
     },
     "execution_count": 29,
     "metadata": {},
     "output_type": "execute_result"
    }
   ],
   "source": [
    "imp_features[imp_features > 0.01].count()"
   ]
  },
  {
   "cell_type": "code",
   "execution_count": 30,
   "metadata": {},
   "outputs": [],
   "source": [
    "for i in X_train_dummy.columns:\n",
    "    if i not in imp_features[imp_features >= 0.01].index:\n",
    "        X_train_dummy.drop(i,axis=1,inplace=True)\n",
    "        X_test_dummy.drop(i,axis=1,inplace=True)"
   ]
  },
  {
   "cell_type": "code",
   "execution_count": 31,
   "metadata": {},
   "outputs": [
    {
     "data": {
      "text/html": [
       "<div>\n",
       "<style scoped>\n",
       "    .dataframe tbody tr th:only-of-type {\n",
       "        vertical-align: middle;\n",
       "    }\n",
       "\n",
       "    .dataframe tbody tr th {\n",
       "        vertical-align: top;\n",
       "    }\n",
       "\n",
       "    .dataframe thead th {\n",
       "        text-align: right;\n",
       "    }\n",
       "</style>\n",
       "<table border=\"1\" class=\"dataframe\">\n",
       "  <thead>\n",
       "    <tr style=\"text-align: right;\">\n",
       "      <th></th>\n",
       "      <th>industry code_Manufacturing</th>\n",
       "      <th>industry code_Services</th>\n",
       "      <th>occupation code_Managerial and professional speciality</th>\n",
       "      <th>class of worker_ Private</th>\n",
       "      <th>marital status_Single</th>\n",
       "      <th>race_ White</th>\n",
       "      <th>sex_ Male</th>\n",
       "      <th>detailed household summary in household_ Householder</th>\n",
       "      <th>full or part time employment stat_ Full-time schedules</th>\n",
       "      <th>tax filer status_ Joint both under 65</th>\n",
       "      <th>Citizenship_combined_Native</th>\n",
       "      <th>wage per hour</th>\n",
       "      <th>capital</th>\n",
       "      <th>divdends from stocks</th>\n",
       "      <th>age</th>\n",
       "      <th>weeks worked in year</th>\n",
       "      <th>education</th>\n",
       "      <th>own business or self employed</th>\n",
       "      <th>num persons worked for employer</th>\n",
       "    </tr>\n",
       "  </thead>\n",
       "  <tbody>\n",
       "    <tr>\n",
       "      <td>0</td>\n",
       "      <td>0</td>\n",
       "      <td>0</td>\n",
       "      <td>0</td>\n",
       "      <td>0</td>\n",
       "      <td>1</td>\n",
       "      <td>1</td>\n",
       "      <td>0</td>\n",
       "      <td>0</td>\n",
       "      <td>0</td>\n",
       "      <td>0</td>\n",
       "      <td>1</td>\n",
       "      <td>0</td>\n",
       "      <td>0</td>\n",
       "      <td>0</td>\n",
       "      <td>6</td>\n",
       "      <td>0</td>\n",
       "      <td>2</td>\n",
       "      <td>0</td>\n",
       "      <td>0</td>\n",
       "    </tr>\n",
       "    <tr>\n",
       "      <td>1</td>\n",
       "      <td>0</td>\n",
       "      <td>0</td>\n",
       "      <td>0</td>\n",
       "      <td>0</td>\n",
       "      <td>1</td>\n",
       "      <td>1</td>\n",
       "      <td>1</td>\n",
       "      <td>1</td>\n",
       "      <td>0</td>\n",
       "      <td>0</td>\n",
       "      <td>1</td>\n",
       "      <td>0</td>\n",
       "      <td>0</td>\n",
       "      <td>0</td>\n",
       "      <td>5</td>\n",
       "      <td>2</td>\n",
       "      <td>2</td>\n",
       "      <td>0</td>\n",
       "      <td>1</td>\n",
       "    </tr>\n",
       "    <tr>\n",
       "      <td>2</td>\n",
       "      <td>0</td>\n",
       "      <td>0</td>\n",
       "      <td>0</td>\n",
       "      <td>0</td>\n",
       "      <td>1</td>\n",
       "      <td>0</td>\n",
       "      <td>0</td>\n",
       "      <td>0</td>\n",
       "      <td>0</td>\n",
       "      <td>0</td>\n",
       "      <td>0</td>\n",
       "      <td>0</td>\n",
       "      <td>0</td>\n",
       "      <td>0</td>\n",
       "      <td>2</td>\n",
       "      <td>0</td>\n",
       "      <td>2</td>\n",
       "      <td>0</td>\n",
       "      <td>0</td>\n",
       "    </tr>\n",
       "    <tr>\n",
       "      <td>3</td>\n",
       "      <td>0</td>\n",
       "      <td>0</td>\n",
       "      <td>0</td>\n",
       "      <td>0</td>\n",
       "      <td>1</td>\n",
       "      <td>1</td>\n",
       "      <td>0</td>\n",
       "      <td>0</td>\n",
       "      <td>0</td>\n",
       "      <td>0</td>\n",
       "      <td>1</td>\n",
       "      <td>0</td>\n",
       "      <td>0</td>\n",
       "      <td>0</td>\n",
       "      <td>1</td>\n",
       "      <td>0</td>\n",
       "      <td>0</td>\n",
       "      <td>0</td>\n",
       "      <td>0</td>\n",
       "    </tr>\n",
       "    <tr>\n",
       "      <td>4</td>\n",
       "      <td>0</td>\n",
       "      <td>0</td>\n",
       "      <td>0</td>\n",
       "      <td>0</td>\n",
       "      <td>1</td>\n",
       "      <td>1</td>\n",
       "      <td>0</td>\n",
       "      <td>0</td>\n",
       "      <td>0</td>\n",
       "      <td>0</td>\n",
       "      <td>1</td>\n",
       "      <td>0</td>\n",
       "      <td>0</td>\n",
       "      <td>0</td>\n",
       "      <td>1</td>\n",
       "      <td>0</td>\n",
       "      <td>0</td>\n",
       "      <td>0</td>\n",
       "      <td>0</td>\n",
       "    </tr>\n",
       "  </tbody>\n",
       "</table>\n",
       "</div>"
      ],
      "text/plain": [
       "   industry code_Manufacturing  industry code_Services  \\\n",
       "0                            0                       0   \n",
       "1                            0                       0   \n",
       "2                            0                       0   \n",
       "3                            0                       0   \n",
       "4                            0                       0   \n",
       "\n",
       "   occupation code_Managerial and professional speciality  \\\n",
       "0                                                  0        \n",
       "1                                                  0        \n",
       "2                                                  0        \n",
       "3                                                  0        \n",
       "4                                                  0        \n",
       "\n",
       "   class of worker_ Private  marital status_Single  race_ White  sex_ Male  \\\n",
       "0                         0                      1            1          0   \n",
       "1                         0                      1            1          1   \n",
       "2                         0                      1            0          0   \n",
       "3                         0                      1            1          0   \n",
       "4                         0                      1            1          0   \n",
       "\n",
       "   detailed household summary in household_ Householder  \\\n",
       "0                                                  0      \n",
       "1                                                  1      \n",
       "2                                                  0      \n",
       "3                                                  0      \n",
       "4                                                  0      \n",
       "\n",
       "   full or part time employment stat_ Full-time schedules  \\\n",
       "0                                                  0        \n",
       "1                                                  0        \n",
       "2                                                  0        \n",
       "3                                                  0        \n",
       "4                                                  0        \n",
       "\n",
       "   tax filer status_ Joint both under 65  Citizenship_combined_Native  \\\n",
       "0                                      0                            1   \n",
       "1                                      0                            1   \n",
       "2                                      0                            0   \n",
       "3                                      0                            1   \n",
       "4                                      0                            1   \n",
       "\n",
       "   wage per hour  capital  divdends from stocks  age  weeks worked in year  \\\n",
       "0              0        0                     0    6                     0   \n",
       "1              0        0                     0    5                     2   \n",
       "2              0        0                     0    2                     0   \n",
       "3              0        0                     0    1                     0   \n",
       "4              0        0                     0    1                     0   \n",
       "\n",
       "   education  own business or self employed   num persons worked for employer  \n",
       "0          2                               0                                0  \n",
       "1          2                               0                                1  \n",
       "2          2                               0                                0  \n",
       "3          0                               0                                0  \n",
       "4          0                               0                                0  "
      ]
     },
     "execution_count": 31,
     "metadata": {},
     "output_type": "execute_result"
    }
   ],
   "source": [
    "X_train_dummy.head()"
   ]
  },
  {
   "cell_type": "code",
   "execution_count": 32,
   "metadata": {},
   "outputs": [
    {
     "data": {
      "text/plain": [
       "RandomForestClassifier(bootstrap=True, ccp_alpha=0.0, class_weight=None,\n",
       "                       criterion='gini', max_depth=None, max_features='auto',\n",
       "                       max_leaf_nodes=None, max_samples=None,\n",
       "                       min_impurity_decrease=0.0, min_impurity_split=None,\n",
       "                       min_samples_leaf=1, min_samples_split=2,\n",
       "                       min_weight_fraction_leaf=0.0, n_estimators=100,\n",
       "                       n_jobs=None, oob_score=False, random_state=None,\n",
       "                       verbose=0, warm_start=False)"
      ]
     },
     "execution_count": 32,
     "metadata": {},
     "output_type": "execute_result"
    }
   ],
   "source": [
    "from sklearn.ensemble import RandomForestClassifier\n",
    "rf = RandomForestClassifier()\n",
    "\n",
    "rf.fit(X_train_dummy,y_train_dummy)"
   ]
  },
  {
   "cell_type": "code",
   "execution_count": 33,
   "metadata": {},
   "outputs": [],
   "source": [
    "y_pred = rf.predict(X_test_dummy)\n",
    "y_pred = rf.predict(X_test_dummy)\n",
    "y_prob = rf.predict_proba(X_test_dummy)[:,1] \n",
    "\n",
    "from sklearn.metrics import accuracy_score, confusion_matrix, roc_auc_score, roc_curve, auc, classification_report\n",
    "\n",
    "score = accuracy_score(y_test_dummy,y_pred )\n",
    "cm = confusion_matrix(y_test_dummy,y_pred)\n",
    "roc_score = roc_auc_score(y_test_dummy,y_prob)\n",
    "rf_report=classification_report(y_test_dummy,y_pred)"
   ]
  },
  {
   "cell_type": "code",
   "execution_count": 34,
   "metadata": {},
   "outputs": [
    {
     "data": {
      "text/plain": [
       "0.9505723622220885"
      ]
     },
     "execution_count": 34,
     "metadata": {},
     "output_type": "execute_result"
    }
   ],
   "source": [
    "score"
   ]
  },
  {
   "cell_type": "code",
   "execution_count": 35,
   "metadata": {},
   "outputs": [
    {
     "data": {
      "text/plain": [
       "array([[92131,  1445],\n",
       "       [ 3486,  2700]], dtype=int64)"
      ]
     },
     "execution_count": 35,
     "metadata": {},
     "output_type": "execute_result"
    }
   ],
   "source": [
    "cm"
   ]
  },
  {
   "cell_type": "code",
   "execution_count": 36,
   "metadata": {},
   "outputs": [
    {
     "data": {
      "text/plain": [
       "0.911307846032351"
      ]
     },
     "execution_count": 36,
     "metadata": {},
     "output_type": "execute_result"
    }
   ],
   "source": [
    "roc_score"
   ]
  },
  {
   "cell_type": "code",
   "execution_count": 37,
   "metadata": {},
   "outputs": [
    {
     "data": {
      "image/png": "[encoded data removed]",
      "text/plain": [
       "<Figure size 720x360 with 2 Axes>"
      ]
     },
     "metadata": {
      "needs_background": "light"
     },
     "output_type": "display_data"
    }
   ],
   "source": [
    "####### AUC-ROC-Curve:\n",
    "\n",
    "\n",
    "fpr, tpr, thresh = roc_curve(y_test_dummy, y_prob)\n",
    "thresh[thresh>1] = 1\n",
    "\n",
    "fig,ax = plt.subplots(figsize=(10,5))\n",
    "ax.plot(fpr,tpr)\n",
    "ax.plot(fpr,fpr,'r')\n",
    "ax1 = ax.twinx()\n",
    "ax1.plot(fpr,thresh,'g')\n",
    "plt.show()"
   ]
  },
  {
   "cell_type": "code",
   "execution_count": 38,
   "metadata": {},
   "outputs": [
    {
     "name": "stdout",
     "output_type": "stream",
     "text": [
      "              precision    recall  f1-score   support\n",
      "\n",
      "           0       0.96      0.98      0.97     93576\n",
      "           1       0.65      0.44      0.52      6186\n",
      "\n",
      "    accuracy                           0.95     99762\n",
      "   macro avg       0.81      0.71      0.75     99762\n",
      "weighted avg       0.94      0.95      0.95     99762\n",
      "\n"
     ]
    }
   ],
   "source": [
    "print(rf_report)"
   ]
  },
  {
   "cell_type": "markdown",
   "metadata": {},
   "source": [
    "#### Sampling the data:"
   ]
  },
  {
   "cell_type": "code",
   "execution_count": 97,
   "metadata": {},
   "outputs": [],
   "source": [
    "X_train_dummy = train_dummy.drop('total person income',axis=1)\n",
    "y_train_dummy = train_dummy['total person income']\n",
    "\n",
    "X_test_dummy = test_dummy.drop('total person income',axis=1)\n",
    "y_test_dummy = test_dummy['total person income']\n",
    "test_final_dummy = pd.concat([X_test_dummy,y_test_dummy],axis=1)"
   ]
  },
  {
   "cell_type": "code",
   "execution_count": 98,
   "metadata": {},
   "outputs": [],
   "source": [
    "from imblearn.under_sampling import NearMiss, RandomUnderSampler      #under sampling\n",
    "nm = NearMiss()\n",
    "ru = RandomUnderSampler()\n",
    "from imblearn.over_sampling import SMOTE\n",
    "sm =SMOTE()\n",
    "\n",
    "X_train_sm, y_train_sm = sm.fit_resample(X_train_dummy,y_train_dummy)"
   ]
  },
  {
   "cell_type": "code",
   "execution_count": 99,
   "metadata": {},
   "outputs": [],
   "source": [
    "X_train_col = X_train.columns\n",
    "y_train_col = ['total person income']\n",
    "\n",
    "y_train_sm = pd.DataFrame(y_train_sm, columns=y_train_col)\n",
    " \n",
    "train_sm = pd.concat([X_train_sm,y_train_sm],axis=1)"
   ]
  },
  {
   "cell_type": "code",
   "execution_count": 102,
   "metadata": {},
   "outputs": [
    {
     "data": {
      "text/html": [
       "<div>\n",
       "<style scoped>\n",
       "    .dataframe tbody tr th:only-of-type {\n",
       "        vertical-align: middle;\n",
       "    }\n",
       "\n",
       "    .dataframe tbody tr th {\n",
       "        vertical-align: top;\n",
       "    }\n",
       "\n",
       "    .dataframe thead th {\n",
       "        text-align: right;\n",
       "    }\n",
       "</style>\n",
       "<table border=\"1\" class=\"dataframe\">\n",
       "  <thead>\n",
       "    <tr style=\"text-align: right;\">\n",
       "      <th></th>\n",
       "      <th>industry code_Agriculture, Forestry and Fisheries</th>\n",
       "      <th>industry code_Armed Forces</th>\n",
       "      <th>industry code_Children</th>\n",
       "      <th>industry code_Construction</th>\n",
       "      <th>industry code_Finance, insurance and real estate</th>\n",
       "      <th>industry code_Manufacturing</th>\n",
       "      <th>industry code_Mining</th>\n",
       "      <th>industry code_Public administration</th>\n",
       "      <th>industry code_Services</th>\n",
       "      <th>industry code_Transportation and public utilities</th>\n",
       "      <th>...</th>\n",
       "      <th>wage per hour</th>\n",
       "      <th>capital</th>\n",
       "      <th>divdends from stocks</th>\n",
       "      <th>age</th>\n",
       "      <th>weeks worked in year</th>\n",
       "      <th>education</th>\n",
       "      <th>own business or self employed</th>\n",
       "      <th>veterans benefits</th>\n",
       "      <th>num persons worked for employer</th>\n",
       "      <th>total person income</th>\n",
       "    </tr>\n",
       "  </thead>\n",
       "  <tbody>\n",
       "    <tr>\n",
       "      <td>0</td>\n",
       "      <td>0</td>\n",
       "      <td>0</td>\n",
       "      <td>0</td>\n",
       "      <td>0</td>\n",
       "      <td>0</td>\n",
       "      <td>0</td>\n",
       "      <td>0</td>\n",
       "      <td>0</td>\n",
       "      <td>0</td>\n",
       "      <td>0</td>\n",
       "      <td>...</td>\n",
       "      <td>0</td>\n",
       "      <td>0</td>\n",
       "      <td>0</td>\n",
       "      <td>6</td>\n",
       "      <td>0</td>\n",
       "      <td>2</td>\n",
       "      <td>0</td>\n",
       "      <td>2</td>\n",
       "      <td>0</td>\n",
       "      <td>0</td>\n",
       "    </tr>\n",
       "    <tr>\n",
       "      <td>1</td>\n",
       "      <td>0</td>\n",
       "      <td>0</td>\n",
       "      <td>0</td>\n",
       "      <td>1</td>\n",
       "      <td>0</td>\n",
       "      <td>0</td>\n",
       "      <td>0</td>\n",
       "      <td>0</td>\n",
       "      <td>0</td>\n",
       "      <td>0</td>\n",
       "      <td>...</td>\n",
       "      <td>0</td>\n",
       "      <td>0</td>\n",
       "      <td>0</td>\n",
       "      <td>5</td>\n",
       "      <td>2</td>\n",
       "      <td>2</td>\n",
       "      <td>0</td>\n",
       "      <td>2</td>\n",
       "      <td>1</td>\n",
       "      <td>0</td>\n",
       "    </tr>\n",
       "    <tr>\n",
       "      <td>2</td>\n",
       "      <td>0</td>\n",
       "      <td>0</td>\n",
       "      <td>0</td>\n",
       "      <td>0</td>\n",
       "      <td>0</td>\n",
       "      <td>0</td>\n",
       "      <td>0</td>\n",
       "      <td>0</td>\n",
       "      <td>0</td>\n",
       "      <td>0</td>\n",
       "      <td>...</td>\n",
       "      <td>0</td>\n",
       "      <td>0</td>\n",
       "      <td>0</td>\n",
       "      <td>2</td>\n",
       "      <td>0</td>\n",
       "      <td>2</td>\n",
       "      <td>0</td>\n",
       "      <td>2</td>\n",
       "      <td>0</td>\n",
       "      <td>0</td>\n",
       "    </tr>\n",
       "    <tr>\n",
       "      <td>3</td>\n",
       "      <td>0</td>\n",
       "      <td>0</td>\n",
       "      <td>1</td>\n",
       "      <td>0</td>\n",
       "      <td>0</td>\n",
       "      <td>0</td>\n",
       "      <td>0</td>\n",
       "      <td>0</td>\n",
       "      <td>0</td>\n",
       "      <td>0</td>\n",
       "      <td>...</td>\n",
       "      <td>0</td>\n",
       "      <td>0</td>\n",
       "      <td>0</td>\n",
       "      <td>1</td>\n",
       "      <td>0</td>\n",
       "      <td>0</td>\n",
       "      <td>0</td>\n",
       "      <td>0</td>\n",
       "      <td>0</td>\n",
       "      <td>0</td>\n",
       "    </tr>\n",
       "    <tr>\n",
       "      <td>4</td>\n",
       "      <td>0</td>\n",
       "      <td>0</td>\n",
       "      <td>1</td>\n",
       "      <td>0</td>\n",
       "      <td>0</td>\n",
       "      <td>0</td>\n",
       "      <td>0</td>\n",
       "      <td>0</td>\n",
       "      <td>0</td>\n",
       "      <td>0</td>\n",
       "      <td>...</td>\n",
       "      <td>0</td>\n",
       "      <td>0</td>\n",
       "      <td>0</td>\n",
       "      <td>1</td>\n",
       "      <td>0</td>\n",
       "      <td>0</td>\n",
       "      <td>0</td>\n",
       "      <td>0</td>\n",
       "      <td>0</td>\n",
       "      <td>0</td>\n",
       "    </tr>\n",
       "    <tr>\n",
       "      <td>...</td>\n",
       "      <td>...</td>\n",
       "      <td>...</td>\n",
       "      <td>...</td>\n",
       "      <td>...</td>\n",
       "      <td>...</td>\n",
       "      <td>...</td>\n",
       "      <td>...</td>\n",
       "      <td>...</td>\n",
       "      <td>...</td>\n",
       "      <td>...</td>\n",
       "      <td>...</td>\n",
       "      <td>...</td>\n",
       "      <td>...</td>\n",
       "      <td>...</td>\n",
       "      <td>...</td>\n",
       "      <td>...</td>\n",
       "      <td>...</td>\n",
       "      <td>...</td>\n",
       "      <td>...</td>\n",
       "      <td>...</td>\n",
       "      <td>...</td>\n",
       "    </tr>\n",
       "    <tr>\n",
       "      <td>367819</td>\n",
       "      <td>0</td>\n",
       "      <td>0</td>\n",
       "      <td>0</td>\n",
       "      <td>0</td>\n",
       "      <td>1</td>\n",
       "      <td>0</td>\n",
       "      <td>0</td>\n",
       "      <td>0</td>\n",
       "      <td>0</td>\n",
       "      <td>0</td>\n",
       "      <td>...</td>\n",
       "      <td>0</td>\n",
       "      <td>0</td>\n",
       "      <td>0</td>\n",
       "      <td>4</td>\n",
       "      <td>1</td>\n",
       "      <td>3</td>\n",
       "      <td>0</td>\n",
       "      <td>2</td>\n",
       "      <td>6</td>\n",
       "      <td>1</td>\n",
       "    </tr>\n",
       "    <tr>\n",
       "      <td>367820</td>\n",
       "      <td>0</td>\n",
       "      <td>0</td>\n",
       "      <td>0</td>\n",
       "      <td>0</td>\n",
       "      <td>0</td>\n",
       "      <td>1</td>\n",
       "      <td>0</td>\n",
       "      <td>0</td>\n",
       "      <td>0</td>\n",
       "      <td>0</td>\n",
       "      <td>...</td>\n",
       "      <td>0</td>\n",
       "      <td>-1902</td>\n",
       "      <td>0</td>\n",
       "      <td>3</td>\n",
       "      <td>2</td>\n",
       "      <td>3</td>\n",
       "      <td>0</td>\n",
       "      <td>2</td>\n",
       "      <td>6</td>\n",
       "      <td>1</td>\n",
       "    </tr>\n",
       "    <tr>\n",
       "      <td>367821</td>\n",
       "      <td>0</td>\n",
       "      <td>0</td>\n",
       "      <td>0</td>\n",
       "      <td>0</td>\n",
       "      <td>1</td>\n",
       "      <td>0</td>\n",
       "      <td>0</td>\n",
       "      <td>0</td>\n",
       "      <td>0</td>\n",
       "      <td>0</td>\n",
       "      <td>...</td>\n",
       "      <td>0</td>\n",
       "      <td>15024</td>\n",
       "      <td>2500</td>\n",
       "      <td>4</td>\n",
       "      <td>2</td>\n",
       "      <td>3</td>\n",
       "      <td>0</td>\n",
       "      <td>2</td>\n",
       "      <td>5</td>\n",
       "      <td>1</td>\n",
       "    </tr>\n",
       "    <tr>\n",
       "      <td>367822</td>\n",
       "      <td>0</td>\n",
       "      <td>0</td>\n",
       "      <td>0</td>\n",
       "      <td>0</td>\n",
       "      <td>0</td>\n",
       "      <td>0</td>\n",
       "      <td>0</td>\n",
       "      <td>0</td>\n",
       "      <td>0</td>\n",
       "      <td>0</td>\n",
       "      <td>...</td>\n",
       "      <td>807</td>\n",
       "      <td>25124</td>\n",
       "      <td>4372</td>\n",
       "      <td>5</td>\n",
       "      <td>1</td>\n",
       "      <td>2</td>\n",
       "      <td>0</td>\n",
       "      <td>2</td>\n",
       "      <td>3</td>\n",
       "      <td>1</td>\n",
       "    </tr>\n",
       "    <tr>\n",
       "      <td>367823</td>\n",
       "      <td>0</td>\n",
       "      <td>0</td>\n",
       "      <td>0</td>\n",
       "      <td>0</td>\n",
       "      <td>0</td>\n",
       "      <td>0</td>\n",
       "      <td>0</td>\n",
       "      <td>0</td>\n",
       "      <td>0</td>\n",
       "      <td>0</td>\n",
       "      <td>...</td>\n",
       "      <td>0</td>\n",
       "      <td>0</td>\n",
       "      <td>15</td>\n",
       "      <td>4</td>\n",
       "      <td>2</td>\n",
       "      <td>2</td>\n",
       "      <td>0</td>\n",
       "      <td>2</td>\n",
       "      <td>6</td>\n",
       "      <td>1</td>\n",
       "    </tr>\n",
       "  </tbody>\n",
       "</table>\n",
       "<p>367824 rows × 72 columns</p>\n",
       "</div>"
      ],
      "text/plain": [
       "        industry code_Agriculture, Forestry and Fisheries  \\\n",
       "0                                                       0   \n",
       "1                                                       0   \n",
       "2                                                       0   \n",
       "3                                                       0   \n",
       "4                                                       0   \n",
       "...                                                   ...   \n",
       "367819                                                  0   \n",
       "367820                                                  0   \n",
       "367821                                                  0   \n",
       "367822                                                  0   \n",
       "367823                                                  0   \n",
       "\n",
       "        industry code_Armed Forces  industry code_Children  \\\n",
       "0                                0                       0   \n",
       "1                                0                       0   \n",
       "2                                0                       0   \n",
       "3                                0                       1   \n",
       "4                                0                       1   \n",
       "...                            ...                     ...   \n",
       "367819                           0                       0   \n",
       "367820                           0                       0   \n",
       "367821                           0                       0   \n",
       "367822                           0                       0   \n",
       "367823                           0                       0   \n",
       "\n",
       "        industry code_Construction  \\\n",
       "0                                0   \n",
       "1                                1   \n",
       "2                                0   \n",
       "3                                0   \n",
       "4                                0   \n",
       "...                            ...   \n",
       "367819                           0   \n",
       "367820                           0   \n",
       "367821                           0   \n",
       "367822                           0   \n",
       "367823                           0   \n",
       "\n",
       "        industry code_Finance, insurance and real estate  \\\n",
       "0                                                      0   \n",
       "1                                                      0   \n",
       "2                                                      0   \n",
       "3                                                      0   \n",
       "4                                                      0   \n",
       "...                                                  ...   \n",
       "367819                                                 1   \n",
       "367820                                                 0   \n",
       "367821                                                 1   \n",
       "367822                                                 0   \n",
       "367823                                                 0   \n",
       "\n",
       "        industry code_Manufacturing  industry code_Mining  \\\n",
       "0                                 0                     0   \n",
       "1                                 0                     0   \n",
       "2                                 0                     0   \n",
       "3                                 0                     0   \n",
       "4                                 0                     0   \n",
       "...                             ...                   ...   \n",
       "367819                            0                     0   \n",
       "367820                            1                     0   \n",
       "367821                            0                     0   \n",
       "367822                            0                     0   \n",
       "367823                            0                     0   \n",
       "\n",
       "        industry code_Public administration  industry code_Services  \\\n",
       "0                                         0                       0   \n",
       "1                                         0                       0   \n",
       "2                                         0                       0   \n",
       "3                                         0                       0   \n",
       "4                                         0                       0   \n",
       "...                                     ...                     ...   \n",
       "367819                                    0                       0   \n",
       "367820                                    0                       0   \n",
       "367821                                    0                       0   \n",
       "367822                                    0                       0   \n",
       "367823                                    0                       0   \n",
       "\n",
       "        industry code_Transportation and public utilities  ...  wage per hour  \\\n",
       "0                                                       0  ...              0   \n",
       "1                                                       0  ...              0   \n",
       "2                                                       0  ...              0   \n",
       "3                                                       0  ...              0   \n",
       "4                                                       0  ...              0   \n",
       "...                                                   ...  ...            ...   \n",
       "367819                                                  0  ...              0   \n",
       "367820                                                  0  ...              0   \n",
       "367821                                                  0  ...              0   \n",
       "367822                                                  0  ...            807   \n",
       "367823                                                  0  ...              0   \n",
       "\n",
       "        capital  divdends from stocks  age  weeks worked in year  education  \\\n",
       "0             0                     0    6                     0          2   \n",
       "1             0                     0    5                     2          2   \n",
       "2             0                     0    2                     0          2   \n",
       "3             0                     0    1                     0          0   \n",
       "4             0                     0    1                     0          0   \n",
       "...         ...                   ...  ...                   ...        ...   \n",
       "367819        0                     0    4                     1          3   \n",
       "367820    -1902                     0    3                     2          3   \n",
       "367821    15024                  2500    4                     2          3   \n",
       "367822    25124                  4372    5                     1          2   \n",
       "367823        0                    15    4                     2          2   \n",
       "\n",
       "        own business or self employed   veterans benefits  \\\n",
       "0                                    0                  2   \n",
       "1                                    0                  2   \n",
       "2                                    0                  2   \n",
       "3                                    0                  0   \n",
       "4                                    0                  0   \n",
       "...                                ...                ...   \n",
       "367819                               0                  2   \n",
       "367820                               0                  2   \n",
       "367821                               0                  2   \n",
       "367822                               0                  2   \n",
       "367823                               0                  2   \n",
       "\n",
       "        num persons worked for employer  total person income  \n",
       "0                                     0                    0  \n",
       "1                                     1                    0  \n",
       "2                                     0                    0  \n",
       "3                                     0                    0  \n",
       "4                                     0                    0  \n",
       "...                                 ...                  ...  \n",
       "367819                                6                    1  \n",
       "367820                                6                    1  \n",
       "367821                                5                    1  \n",
       "367822                                3                    1  \n",
       "367823                                6                    1  \n",
       "\n",
       "[367824 rows x 72 columns]"
      ]
     },
     "execution_count": 102,
     "metadata": {},
     "output_type": "execute_result"
    }
   ],
   "source": [
    "train_sm"
   ]
  },
  {
   "cell_type": "code",
   "execution_count": 103,
   "metadata": {},
   "outputs": [
    {
     "data": {
      "text/plain": [
       "RandomForestClassifier(bootstrap=True, ccp_alpha=0.0, class_weight=None,\n",
       "                       criterion='gini', max_depth=None, max_features='auto',\n",
       "                       max_leaf_nodes=None, max_samples=None,\n",
       "                       min_impurity_decrease=0.0, min_impurity_split=None,\n",
       "                       min_samples_leaf=1, min_samples_split=2,\n",
       "                       min_weight_fraction_leaf=0.0, n_estimators=100,\n",
       "                       n_jobs=None, oob_score=False, random_state=None,\n",
       "                       verbose=0, warm_start=False)"
      ]
     },
     "execution_count": 103,
     "metadata": {},
     "output_type": "execute_result"
    }
   ],
   "source": [
    "from sklearn.ensemble import RandomForestClassifier\n",
    "rf = RandomForestClassifier()\n",
    "\n",
    "rf.fit(X_train_sm, y_train_sm)"
   ]
  },
  {
   "cell_type": "code",
   "execution_count": 105,
   "metadata": {},
   "outputs": [],
   "source": [
    "y_pred = rf.predict(X_test_dummy)\n",
    "y_pred = rf.predict(X_test_dummy)\n",
    "y_prob = rf.predict_proba(X_test_dummy)[:,1] \n",
    "\n",
    "from sklearn.metrics import accuracy_score, confusion_matrix, roc_auc_score, roc_curve, auc, classification_report\n",
    "\n",
    "score = accuracy_score(y_test_dummy,y_pred)\n",
    "cm = confusion_matrix(y_test_dummy,y_pred)\n",
    "roc_score = roc_auc_score(y_test_dummy,y_prob)\n",
    "rf_report=classification_report(y_test_dummy,y_pred)"
   ]
  },
  {
   "cell_type": "code",
   "execution_count": 106,
   "metadata": {},
   "outputs": [
    {
     "data": {
      "text/plain": [
       "0.9259938653996511"
      ]
     },
     "execution_count": 106,
     "metadata": {},
     "output_type": "execute_result"
    }
   ],
   "source": [
    "score"
   ]
  },
  {
   "cell_type": "code",
   "execution_count": 107,
   "metadata": {},
   "outputs": [
    {
     "data": {
      "text/plain": [
       "array([[88925,  4651],\n",
       "       [ 2732,  3454]], dtype=int64)"
      ]
     },
     "execution_count": 107,
     "metadata": {},
     "output_type": "execute_result"
    }
   ],
   "source": [
    "cm"
   ]
  },
  {
   "cell_type": "code",
   "execution_count": 108,
   "metadata": {},
   "outputs": [
    {
     "data": {
      "text/plain": [
       "0.9066709342877702"
      ]
     },
     "execution_count": 108,
     "metadata": {},
     "output_type": "execute_result"
    }
   ],
   "source": [
    "roc_score"
   ]
  },
  {
   "cell_type": "code",
   "execution_count": 109,
   "metadata": {},
   "outputs": [
    {
     "data": {
      "image/png": "[encoded data removed]",
      "text/plain": [
       "<Figure size 720x360 with 2 Axes>"
      ]
     },
     "metadata": {
      "needs_background": "light"
     },
     "output_type": "display_data"
    }
   ],
   "source": [
    "####### AUC-ROC-Curve:\n",
    "\n",
    "fpr, tpr, thresh = roc_curve(y_test_dummy, y_prob )\n",
    "\n",
    "thresh[thresh>1] = 1\n",
    "\n",
    "fig,ax = plt.subplots(figsize=(10,5))\n",
    "ax.plot(fpr,tpr)\n",
    "ax.plot(fpr,fpr,'r')\n",
    "ax1 = ax.twinx()\n",
    "ax1.plot(fpr,thresh,'g')\n",
    "plt.show()"
   ]
  },
  {
   "cell_type": "code",
   "execution_count": 110,
   "metadata": {},
   "outputs": [
    {
     "name": "stdout",
     "output_type": "stream",
     "text": [
      "              precision    recall  f1-score   support\n",
      "\n",
      "           0       0.97      0.95      0.96     93576\n",
      "           1       0.43      0.56      0.48      6186\n",
      "\n",
      "    accuracy                           0.93     99762\n",
      "   macro avg       0.70      0.75      0.72     99762\n",
      "weighted avg       0.94      0.93      0.93     99762\n",
      "\n"
     ]
    }
   ],
   "source": [
    "print(rf_report)"
   ]
  },
  {
   "cell_type": "code",
   "execution_count": 111,
   "metadata": {},
   "outputs": [],
   "source": [
    "imp_features = pd.Series(rf.feature_importances_,index=X_train_sm.columns)"
   ]
  },
  {
   "cell_type": "code",
   "execution_count": 112,
   "metadata": {},
   "outputs": [],
   "source": [
    "for i in X_train_dummy.columns:\n",
    "    if i not in imp_features[imp_features >= 0.005].index:\n",
    "        X_train_sm.drop(i,axis=1,inplace=True)\n",
    "        X_test_dummy.drop(i,axis=1,inplace=True)"
   ]
  },
  {
   "cell_type": "code",
   "execution_count": 115,
   "metadata": {},
   "outputs": [
    {
     "data": {
      "text/html": [
       "<div>\n",
       "<style scoped>\n",
       "    .dataframe tbody tr th:only-of-type {\n",
       "        vertical-align: middle;\n",
       "    }\n",
       "\n",
       "    .dataframe tbody tr th {\n",
       "        vertical-align: top;\n",
       "    }\n",
       "\n",
       "    .dataframe thead th {\n",
       "        text-align: right;\n",
       "    }\n",
       "</style>\n",
       "<table border=\"1\" class=\"dataframe\">\n",
       "  <thead>\n",
       "    <tr style=\"text-align: right;\">\n",
       "      <th></th>\n",
       "      <th>industry code_Construction</th>\n",
       "      <th>industry code_Finance, insurance and real estate</th>\n",
       "      <th>industry code_Manufacturing</th>\n",
       "      <th>industry code_Services</th>\n",
       "      <th>industry code_Transportation and public utilities</th>\n",
       "      <th>industry code_Wholesale and retail trade</th>\n",
       "      <th>occupation code_Managerial and professional speciality</th>\n",
       "      <th>occupation code_Operators, fabricators and laborers</th>\n",
       "      <th>occupation code_Precision production, craft and repair</th>\n",
       "      <th>occupation code_Service Occupations</th>\n",
       "      <th>...</th>\n",
       "      <th>Citizenship_combined_Native-single_parent_foreign</th>\n",
       "      <th>wage per hour</th>\n",
       "      <th>capital</th>\n",
       "      <th>divdends from stocks</th>\n",
       "      <th>age</th>\n",
       "      <th>weeks worked in year</th>\n",
       "      <th>education</th>\n",
       "      <th>own business or self employed</th>\n",
       "      <th>veterans benefits</th>\n",
       "      <th>num persons worked for employer</th>\n",
       "    </tr>\n",
       "  </thead>\n",
       "  <tbody>\n",
       "    <tr>\n",
       "      <td>0</td>\n",
       "      <td>0</td>\n",
       "      <td>0</td>\n",
       "      <td>1</td>\n",
       "      <td>0</td>\n",
       "      <td>0</td>\n",
       "      <td>0</td>\n",
       "      <td>0</td>\n",
       "      <td>1</td>\n",
       "      <td>0</td>\n",
       "      <td>0</td>\n",
       "      <td>...</td>\n",
       "      <td>0</td>\n",
       "      <td>0</td>\n",
       "      <td>0</td>\n",
       "      <td>0</td>\n",
       "      <td>4</td>\n",
       "      <td>1</td>\n",
       "      <td>1</td>\n",
       "      <td>0</td>\n",
       "      <td>2</td>\n",
       "      <td>4</td>\n",
       "    </tr>\n",
       "    <tr>\n",
       "      <td>1</td>\n",
       "      <td>0</td>\n",
       "      <td>0</td>\n",
       "      <td>0</td>\n",
       "      <td>1</td>\n",
       "      <td>0</td>\n",
       "      <td>0</td>\n",
       "      <td>1</td>\n",
       "      <td>0</td>\n",
       "      <td>0</td>\n",
       "      <td>0</td>\n",
       "      <td>...</td>\n",
       "      <td>0</td>\n",
       "      <td>0</td>\n",
       "      <td>0</td>\n",
       "      <td>2500</td>\n",
       "      <td>4</td>\n",
       "      <td>1</td>\n",
       "      <td>5</td>\n",
       "      <td>0</td>\n",
       "      <td>2</td>\n",
       "      <td>1</td>\n",
       "    </tr>\n",
       "    <tr>\n",
       "      <td>2</td>\n",
       "      <td>0</td>\n",
       "      <td>0</td>\n",
       "      <td>0</td>\n",
       "      <td>0</td>\n",
       "      <td>0</td>\n",
       "      <td>0</td>\n",
       "      <td>0</td>\n",
       "      <td>0</td>\n",
       "      <td>0</td>\n",
       "      <td>0</td>\n",
       "      <td>...</td>\n",
       "      <td>0</td>\n",
       "      <td>0</td>\n",
       "      <td>0</td>\n",
       "      <td>0</td>\n",
       "      <td>1</td>\n",
       "      <td>0</td>\n",
       "      <td>0</td>\n",
       "      <td>0</td>\n",
       "      <td>0</td>\n",
       "      <td>0</td>\n",
       "    </tr>\n",
       "    <tr>\n",
       "      <td>3</td>\n",
       "      <td>0</td>\n",
       "      <td>0</td>\n",
       "      <td>0</td>\n",
       "      <td>0</td>\n",
       "      <td>1</td>\n",
       "      <td>0</td>\n",
       "      <td>1</td>\n",
       "      <td>0</td>\n",
       "      <td>0</td>\n",
       "      <td>0</td>\n",
       "      <td>...</td>\n",
       "      <td>0</td>\n",
       "      <td>0</td>\n",
       "      <td>0</td>\n",
       "      <td>0</td>\n",
       "      <td>3</td>\n",
       "      <td>2</td>\n",
       "      <td>2</td>\n",
       "      <td>2</td>\n",
       "      <td>2</td>\n",
       "      <td>5</td>\n",
       "    </tr>\n",
       "    <tr>\n",
       "      <td>4</td>\n",
       "      <td>1</td>\n",
       "      <td>0</td>\n",
       "      <td>0</td>\n",
       "      <td>0</td>\n",
       "      <td>0</td>\n",
       "      <td>0</td>\n",
       "      <td>0</td>\n",
       "      <td>0</td>\n",
       "      <td>1</td>\n",
       "      <td>0</td>\n",
       "      <td>...</td>\n",
       "      <td>0</td>\n",
       "      <td>0</td>\n",
       "      <td>0</td>\n",
       "      <td>0</td>\n",
       "      <td>4</td>\n",
       "      <td>2</td>\n",
       "      <td>2</td>\n",
       "      <td>0</td>\n",
       "      <td>2</td>\n",
       "      <td>4</td>\n",
       "    </tr>\n",
       "    <tr>\n",
       "      <td>...</td>\n",
       "      <td>...</td>\n",
       "      <td>...</td>\n",
       "      <td>...</td>\n",
       "      <td>...</td>\n",
       "      <td>...</td>\n",
       "      <td>...</td>\n",
       "      <td>...</td>\n",
       "      <td>...</td>\n",
       "      <td>...</td>\n",
       "      <td>...</td>\n",
       "      <td>...</td>\n",
       "      <td>...</td>\n",
       "      <td>...</td>\n",
       "      <td>...</td>\n",
       "      <td>...</td>\n",
       "      <td>...</td>\n",
       "      <td>...</td>\n",
       "      <td>...</td>\n",
       "      <td>...</td>\n",
       "      <td>...</td>\n",
       "      <td>...</td>\n",
       "    </tr>\n",
       "    <tr>\n",
       "      <td>99757</td>\n",
       "      <td>0</td>\n",
       "      <td>0</td>\n",
       "      <td>0</td>\n",
       "      <td>0</td>\n",
       "      <td>0</td>\n",
       "      <td>0</td>\n",
       "      <td>0</td>\n",
       "      <td>0</td>\n",
       "      <td>0</td>\n",
       "      <td>0</td>\n",
       "      <td>...</td>\n",
       "      <td>0</td>\n",
       "      <td>0</td>\n",
       "      <td>0</td>\n",
       "      <td>0</td>\n",
       "      <td>1</td>\n",
       "      <td>0</td>\n",
       "      <td>0</td>\n",
       "      <td>0</td>\n",
       "      <td>0</td>\n",
       "      <td>0</td>\n",
       "    </tr>\n",
       "    <tr>\n",
       "      <td>99758</td>\n",
       "      <td>0</td>\n",
       "      <td>0</td>\n",
       "      <td>1</td>\n",
       "      <td>0</td>\n",
       "      <td>0</td>\n",
       "      <td>0</td>\n",
       "      <td>0</td>\n",
       "      <td>1</td>\n",
       "      <td>0</td>\n",
       "      <td>0</td>\n",
       "      <td>...</td>\n",
       "      <td>0</td>\n",
       "      <td>0</td>\n",
       "      <td>0</td>\n",
       "      <td>0</td>\n",
       "      <td>5</td>\n",
       "      <td>2</td>\n",
       "      <td>2</td>\n",
       "      <td>0</td>\n",
       "      <td>2</td>\n",
       "      <td>4</td>\n",
       "    </tr>\n",
       "    <tr>\n",
       "      <td>99759</td>\n",
       "      <td>0</td>\n",
       "      <td>0</td>\n",
       "      <td>0</td>\n",
       "      <td>0</td>\n",
       "      <td>0</td>\n",
       "      <td>0</td>\n",
       "      <td>0</td>\n",
       "      <td>0</td>\n",
       "      <td>0</td>\n",
       "      <td>0</td>\n",
       "      <td>...</td>\n",
       "      <td>0</td>\n",
       "      <td>0</td>\n",
       "      <td>0</td>\n",
       "      <td>0</td>\n",
       "      <td>3</td>\n",
       "      <td>2</td>\n",
       "      <td>1</td>\n",
       "      <td>0</td>\n",
       "      <td>2</td>\n",
       "      <td>2</td>\n",
       "    </tr>\n",
       "    <tr>\n",
       "      <td>99760</td>\n",
       "      <td>0</td>\n",
       "      <td>0</td>\n",
       "      <td>0</td>\n",
       "      <td>1</td>\n",
       "      <td>0</td>\n",
       "      <td>0</td>\n",
       "      <td>1</td>\n",
       "      <td>0</td>\n",
       "      <td>0</td>\n",
       "      <td>0</td>\n",
       "      <td>...</td>\n",
       "      <td>0</td>\n",
       "      <td>0</td>\n",
       "      <td>0</td>\n",
       "      <td>0</td>\n",
       "      <td>3</td>\n",
       "      <td>2</td>\n",
       "      <td>3</td>\n",
       "      <td>0</td>\n",
       "      <td>2</td>\n",
       "      <td>5</td>\n",
       "    </tr>\n",
       "    <tr>\n",
       "      <td>99761</td>\n",
       "      <td>0</td>\n",
       "      <td>0</td>\n",
       "      <td>0</td>\n",
       "      <td>0</td>\n",
       "      <td>0</td>\n",
       "      <td>0</td>\n",
       "      <td>0</td>\n",
       "      <td>0</td>\n",
       "      <td>0</td>\n",
       "      <td>0</td>\n",
       "      <td>...</td>\n",
       "      <td>0</td>\n",
       "      <td>0</td>\n",
       "      <td>0</td>\n",
       "      <td>0</td>\n",
       "      <td>6</td>\n",
       "      <td>0</td>\n",
       "      <td>2</td>\n",
       "      <td>0</td>\n",
       "      <td>2</td>\n",
       "      <td>0</td>\n",
       "    </tr>\n",
       "  </tbody>\n",
       "</table>\n",
       "<p>99762 rows × 37 columns</p>\n",
       "</div>"
      ],
      "text/plain": [
       "       industry code_Construction  \\\n",
       "0                               0   \n",
       "1                               0   \n",
       "2                               0   \n",
       "3                               0   \n",
       "4                               1   \n",
       "...                           ...   \n",
       "99757                           0   \n",
       "99758                           0   \n",
       "99759                           0   \n",
       "99760                           0   \n",
       "99761                           0   \n",
       "\n",
       "       industry code_Finance, insurance and real estate  \\\n",
       "0                                                     0   \n",
       "1                                                     0   \n",
       "2                                                     0   \n",
       "3                                                     0   \n",
       "4                                                     0   \n",
       "...                                                 ...   \n",
       "99757                                                 0   \n",
       "99758                                                 0   \n",
       "99759                                                 0   \n",
       "99760                                                 0   \n",
       "99761                                                 0   \n",
       "\n",
       "       industry code_Manufacturing  industry code_Services  \\\n",
       "0                                1                       0   \n",
       "1                                0                       1   \n",
       "2                                0                       0   \n",
       "3                                0                       0   \n",
       "4                                0                       0   \n",
       "...                            ...                     ...   \n",
       "99757                            0                       0   \n",
       "99758                            1                       0   \n",
       "99759                            0                       0   \n",
       "99760                            0                       1   \n",
       "99761                            0                       0   \n",
       "\n",
       "       industry code_Transportation and public utilities  \\\n",
       "0                                                      0   \n",
       "1                                                      0   \n",
       "2                                                      0   \n",
       "3                                                      1   \n",
       "4                                                      0   \n",
       "...                                                  ...   \n",
       "99757                                                  0   \n",
       "99758                                                  0   \n",
       "99759                                                  0   \n",
       "99760                                                  0   \n",
       "99761                                                  0   \n",
       "\n",
       "       industry code_Wholesale and retail trade  \\\n",
       "0                                             0   \n",
       "1                                             0   \n",
       "2                                             0   \n",
       "3                                             0   \n",
       "4                                             0   \n",
       "...                                         ...   \n",
       "99757                                         0   \n",
       "99758                                         0   \n",
       "99759                                         0   \n",
       "99760                                         0   \n",
       "99761                                         0   \n",
       "\n",
       "       occupation code_Managerial and professional speciality  \\\n",
       "0                                                      0        \n",
       "1                                                      1        \n",
       "2                                                      0        \n",
       "3                                                      1        \n",
       "4                                                      0        \n",
       "...                                                  ...        \n",
       "99757                                                  0        \n",
       "99758                                                  0        \n",
       "99759                                                  0        \n",
       "99760                                                  1        \n",
       "99761                                                  0        \n",
       "\n",
       "       occupation code_Operators, fabricators and laborers  \\\n",
       "0                                                      1     \n",
       "1                                                      0     \n",
       "2                                                      0     \n",
       "3                                                      0     \n",
       "4                                                      0     \n",
       "...                                                  ...     \n",
       "99757                                                  0     \n",
       "99758                                                  1     \n",
       "99759                                                  0     \n",
       "99760                                                  0     \n",
       "99761                                                  0     \n",
       "\n",
       "       occupation code_Precision production, craft and repair  \\\n",
       "0                                                      0        \n",
       "1                                                      0        \n",
       "2                                                      0        \n",
       "3                                                      0        \n",
       "4                                                      1        \n",
       "...                                                  ...        \n",
       "99757                                                  0        \n",
       "99758                                                  0        \n",
       "99759                                                  0        \n",
       "99760                                                  0        \n",
       "99761                                                  0        \n",
       "\n",
       "       occupation code_Service Occupations  ...  \\\n",
       "0                                        0  ...   \n",
       "1                                        0  ...   \n",
       "2                                        0  ...   \n",
       "3                                        0  ...   \n",
       "4                                        0  ...   \n",
       "...                                    ...  ...   \n",
       "99757                                    0  ...   \n",
       "99758                                    0  ...   \n",
       "99759                                    0  ...   \n",
       "99760                                    0  ...   \n",
       "99761                                    0  ...   \n",
       "\n",
       "       Citizenship_combined_Native-single_parent_foreign  wage per hour  \\\n",
       "0                                                      0              0   \n",
       "1                                                      0              0   \n",
       "2                                                      0              0   \n",
       "3                                                      0              0   \n",
       "4                                                      0              0   \n",
       "...                                                  ...            ...   \n",
       "99757                                                  0              0   \n",
       "99758                                                  0              0   \n",
       "99759                                                  0              0   \n",
       "99760                                                  0              0   \n",
       "99761                                                  0              0   \n",
       "\n",
       "       capital  divdends from stocks  age  weeks worked in year  education  \\\n",
       "0            0                     0    4                     1          1   \n",
       "1            0                  2500    4                     1          5   \n",
       "2            0                     0    1                     0          0   \n",
       "3            0                     0    3                     2          2   \n",
       "4            0                     0    4                     2          2   \n",
       "...        ...                   ...  ...                   ...        ...   \n",
       "99757        0                     0    1                     0          0   \n",
       "99758        0                     0    5                     2          2   \n",
       "99759        0                     0    3                     2          1   \n",
       "99760        0                     0    3                     2          3   \n",
       "99761        0                     0    6                     0          2   \n",
       "\n",
       "       own business or self employed   veterans benefits  \\\n",
       "0                                   0                  2   \n",
       "1                                   0                  2   \n",
       "2                                   0                  0   \n",
       "3                                   2                  2   \n",
       "4                                   0                  2   \n",
       "...                               ...                ...   \n",
       "99757                               0                  0   \n",
       "99758                               0                  2   \n",
       "99759                               0                  2   \n",
       "99760                               0                  2   \n",
       "99761                               0                  2   \n",
       "\n",
       "       num persons worked for employer  \n",
       "0                                    4  \n",
       "1                                    1  \n",
       "2                                    0  \n",
       "3                                    5  \n",
       "4                                    4  \n",
       "...                                ...  \n",
       "99757                                0  \n",
       "99758                                4  \n",
       "99759                                2  \n",
       "99760                                5  \n",
       "99761                                0  \n",
       "\n",
       "[99762 rows x 37 columns]"
      ]
     },
     "execution_count": 115,
     "metadata": {},
     "output_type": "execute_result"
    }
   ],
   "source": [
    "X_test_dummy"
   ]
  },
  {
   "cell_type": "code",
   "execution_count": 116,
   "metadata": {},
   "outputs": [
    {
     "data": {
      "text/plain": [
       "RandomForestClassifier(bootstrap=True, ccp_alpha=0.0, class_weight=None,\n",
       "                       criterion='gini', max_depth=None, max_features='auto',\n",
       "                       max_leaf_nodes=None, max_samples=None,\n",
       "                       min_impurity_decrease=0.0, min_impurity_split=None,\n",
       "                       min_samples_leaf=1, min_samples_split=2,\n",
       "                       min_weight_fraction_leaf=0.0, n_estimators=100,\n",
       "                       n_jobs=None, oob_score=False, random_state=None,\n",
       "                       verbose=0, warm_start=False)"
      ]
     },
     "execution_count": 116,
     "metadata": {},
     "output_type": "execute_result"
    }
   ],
   "source": [
    "from sklearn.ensemble import RandomForestClassifier\n",
    "rf = RandomForestClassifier()\n",
    "\n",
    "rf.fit(X_train_sm, y_train_sm)"
   ]
  },
  {
   "cell_type": "code",
   "execution_count": 117,
   "metadata": {},
   "outputs": [],
   "source": [
    "y_pred = rf.predict(X_test_dummy)\n",
    "y_prob = rf.predict_proba(X_test_dummy)[:,1] \n",
    "\n",
    "from sklearn.metrics import accuracy_score, confusion_matrix, roc_auc_score, roc_curve, auc, classification_report\n",
    "\n",
    "score = accuracy_score(y_test_dummy,y_pred)\n",
    "cm = confusion_matrix(y_test_dummy,y_pred)\n",
    "roc_score = roc_auc_score(y_test_dummy,y_prob)\n",
    "rf_report=classification_report(y_test_dummy,y_pred)"
   ]
  },
  {
   "cell_type": "code",
   "execution_count": 118,
   "metadata": {},
   "outputs": [
    {
     "data": {
      "text/plain": [
       "0.9197289549126922"
      ]
     },
     "execution_count": 118,
     "metadata": {},
     "output_type": "execute_result"
    }
   ],
   "source": [
    "score"
   ]
  },
  {
   "cell_type": "code",
   "execution_count": 119,
   "metadata": {},
   "outputs": [
    {
     "data": {
      "text/plain": [
       "array([[88130,  5446],\n",
       "       [ 2562,  3624]], dtype=int64)"
      ]
     },
     "execution_count": 119,
     "metadata": {},
     "output_type": "execute_result"
    }
   ],
   "source": [
    "cm"
   ]
  },
  {
   "cell_type": "code",
   "execution_count": 120,
   "metadata": {},
   "outputs": [
    {
     "data": {
      "text/plain": [
       "0.9035589089884937"
      ]
     },
     "execution_count": 120,
     "metadata": {},
     "output_type": "execute_result"
    }
   ],
   "source": [
    "roc_score"
   ]
  },
  {
   "cell_type": "code",
   "execution_count": 121,
   "metadata": {},
   "outputs": [
    {
     "data": {
      "image/png": "[encoded data removed]",
      "text/plain": [
       "<Figure size 720x360 with 2 Axes>"
      ]
     },
     "metadata": {
      "needs_background": "light"
     },
     "output_type": "display_data"
    }
   ],
   "source": [
    "####### AUC-ROC-Curve:\n",
    "\n",
    "fpr, tpr, thresh = roc_curve(y_test_dummy, y_prob )\n",
    "\n",
    "thresh[thresh>1] = 1\n",
    "\n",
    "fig,ax = plt.subplots(figsize=(10,5))\n",
    "ax.plot(fpr,tpr)\n",
    "ax.plot(fpr,fpr,'r')\n",
    "ax1 = ax.twinx()\n",
    "ax1.plot(fpr,thresh,'g')\n",
    "plt.show()"
   ]
  },
  {
   "cell_type": "code",
   "execution_count": 122,
   "metadata": {},
   "outputs": [
    {
     "name": "stdout",
     "output_type": "stream",
     "text": [
      "              precision    recall  f1-score   support\n",
      "\n",
      "           0       0.97      0.94      0.96     93576\n",
      "           1       0.40      0.59      0.48      6186\n",
      "\n",
      "    accuracy                           0.92     99762\n",
      "   macro avg       0.69      0.76      0.72     99762\n",
      "weighted avg       0.94      0.92      0.93     99762\n",
      "\n"
     ]
    }
   ],
   "source": [
    "print(rf_report)"
   ]
  },
  {
   "cell_type": "markdown",
   "metadata": {},
   "source": [
    "### Gradient Boosting Classifier"
   ]
  },
  {
   "cell_type": "code",
   "execution_count": 132,
   "metadata": {},
   "outputs": [],
   "source": [
    "X_train_dummy = train_dummy.drop('total person income',axis=1)\n",
    "y_train_dummy = train_dummy['total person income']\n",
    "\n",
    "X_test_dummy = test_dummy.drop('total person income',axis=1)\n",
    "y_test_dummy = test_dummy[['total person income']]\n",
    "test_final_dummy = pd.concat([X_test_dummy,y_test_dummy],axis=1)"
   ]
  },
  {
   "cell_type": "code",
   "execution_count": 133,
   "metadata": {},
   "outputs": [],
   "source": [
    "from imblearn.under_sampling import NearMiss, RandomUnderSampler      #under sampling\n",
    "nm = NearMiss()\n",
    "ru = RandomUnderSampler()\n",
    "from imblearn.over_sampling import SMOTE\n",
    "sm =SMOTE()\n",
    "\n",
    "X_train_sm, y_train_sm = sm.fit_resample(X_train_dummy,y_train_dummy)"
   ]
  },
  {
   "cell_type": "code",
   "execution_count": 134,
   "metadata": {},
   "outputs": [],
   "source": [
    "X_train_col = X_train.columns\n",
    "y_train_col = ['total person income']\n",
    "\n",
    "y_train_sm = pd.DataFrame(y_train_sm, columns=y_train_col)\n",
    " \n",
    "train_sm = pd.concat([X_train_sm,y_train_sm],axis=1)"
   ]
  },
  {
   "cell_type": "code",
   "execution_count": 135,
   "metadata": {},
   "outputs": [
    {
     "data": {
      "text/plain": [
       "GradientBoostingClassifier(ccp_alpha=0.0, criterion='friedman_mse', init=None,\n",
       "                           learning_rate=0.1, loss='deviance', max_depth=3,\n",
       "                           max_features=None, max_leaf_nodes=None,\n",
       "                           min_impurity_decrease=0.0, min_impurity_split=None,\n",
       "                           min_samples_leaf=1, min_samples_split=2,\n",
       "                           min_weight_fraction_leaf=0.0, n_estimators=100,\n",
       "                           n_iter_no_change=None, presort='deprecated',\n",
       "                           random_state=None, subsample=1.0, tol=0.0001,\n",
       "                           validation_fraction=0.1, verbose=0,\n",
       "                           warm_start=False)"
      ]
     },
     "execution_count": 135,
     "metadata": {},
     "output_type": "execute_result"
    }
   ],
   "source": [
    "from sklearn.ensemble import GradientBoostingClassifier\n",
    "gbc = GradientBoostingClassifier()\n",
    "\n",
    "gbc.fit(X_train_sm, y_train_sm)"
   ]
  },
  {
   "cell_type": "code",
   "execution_count": 136,
   "metadata": {},
   "outputs": [],
   "source": [
    "y_pred = gbc.predict(X_test_dummy)\n",
    "\n",
    "y_prob = gbc.predict_proba(X_test_dummy)[:,1] \n",
    "\n",
    "from sklearn.metrics import accuracy_score, confusion_matrix, roc_auc_score, roc_curve, auc, classification_report\n",
    "\n",
    "score = accuracy_score(y_test_dummy,y_pred)\n",
    "cm = confusion_matrix(y_test_dummy,y_pred)\n",
    "roc_score = roc_auc_score(y_test_dummy,y_prob)\n",
    "gbc_report=classification_report(y_test_dummy,y_pred)"
   ]
  },
  {
   "cell_type": "code",
   "execution_count": 137,
   "metadata": {},
   "outputs": [
    {
     "data": {
      "text/plain": [
       "0.8652793648884345"
      ]
     },
     "execution_count": 137,
     "metadata": {},
     "output_type": "execute_result"
    }
   ],
   "source": [
    "score"
   ]
  },
  {
   "cell_type": "code",
   "execution_count": 138,
   "metadata": {},
   "outputs": [
    {
     "data": {
      "text/plain": [
       "array([[81145, 12431],\n",
       "       [ 1009,  5177]], dtype=int64)"
      ]
     },
     "execution_count": 138,
     "metadata": {},
     "output_type": "execute_result"
    }
   ],
   "source": [
    "cm"
   ]
  },
  {
   "cell_type": "code",
   "execution_count": 139,
   "metadata": {},
   "outputs": [
    {
     "data": {
      "text/plain": [
       "0.932411748575223"
      ]
     },
     "execution_count": 139,
     "metadata": {},
     "output_type": "execute_result"
    }
   ],
   "source": [
    "roc_score"
   ]
  },
  {
   "cell_type": "code",
   "execution_count": 140,
   "metadata": {},
   "outputs": [
    {
     "data": {
      "image/png": "[encoded data removed]",
      "text/plain": [
       "<Figure size 720x360 with 2 Axes>"
      ]
     },
     "metadata": {
      "needs_background": "light"
     },
     "output_type": "display_data"
    }
   ],
   "source": [
    "####### AUC-ROC-Curve:\n",
    "\n",
    "fpr, tpr, thresh = roc_curve(y_test_dummy, y_prob )\n",
    "\n",
    "thresh[thresh>1] = 1\n",
    "\n",
    "fig,ax = plt.subplots(figsize=(10,5))\n",
    "ax.plot(fpr,tpr)\n",
    "ax.plot(fpr,fpr,'r')\n",
    "ax1 = ax.twinx()\n",
    "ax1.plot(fpr,thresh,'g')\n",
    "plt.show()"
   ]
  },
  {
   "cell_type": "code",
   "execution_count": 141,
   "metadata": {},
   "outputs": [
    {
     "name": "stdout",
     "output_type": "stream",
     "text": [
      "              precision    recall  f1-score   support\n",
      "\n",
      "           0       0.99      0.87      0.92     93576\n",
      "           1       0.29      0.84      0.44      6186\n",
      "\n",
      "    accuracy                           0.87     99762\n",
      "   macro avg       0.64      0.85      0.68     99762\n",
      "weighted avg       0.94      0.87      0.89     99762\n",
      "\n"
     ]
    }
   ],
   "source": [
    "print(gbc_report)"
   ]
  },
  {
   "cell_type": "code",
   "execution_count": 142,
   "metadata": {},
   "outputs": [],
   "source": [
    "imp_features = pd.Series(gbc.feature_importances_,index=X_train_sm.columns)"
   ]
  },
  {
   "cell_type": "code",
   "execution_count": 143,
   "metadata": {},
   "outputs": [],
   "source": [
    "for i in X_train_dummy.columns:\n",
    "    if i not in imp_features[imp_features >= 0.005].index:\n",
    "        X_train_sm.drop(i,axis=1,inplace=True)\n",
    "        X_test_dummy.drop(i,axis=1,inplace=True)"
   ]
  },
  {
   "cell_type": "code",
   "execution_count": 155,
   "metadata": {},
   "outputs": [
    {
     "data": {
      "text/html": [
       "<div>\n",
       "<style scoped>\n",
       "    .dataframe tbody tr th:only-of-type {\n",
       "        vertical-align: middle;\n",
       "    }\n",
       "\n",
       "    .dataframe tbody tr th {\n",
       "        vertical-align: top;\n",
       "    }\n",
       "\n",
       "    .dataframe thead th {\n",
       "        text-align: right;\n",
       "    }\n",
       "</style>\n",
       "<table border=\"1\" class=\"dataframe\">\n",
       "  <thead>\n",
       "    <tr style=\"text-align: right;\">\n",
       "      <th></th>\n",
       "      <th>industry code_Services</th>\n",
       "      <th>industry code_Wholesale and retail trade</th>\n",
       "      <th>occupation code_Managerial and professional speciality</th>\n",
       "      <th>occupation code_Operators, fabricators and laborers</th>\n",
       "      <th>occupation code_Precision production, craft and repair</th>\n",
       "      <th>occupation code_Service Occupations</th>\n",
       "      <th>occupation code_Technical, sales and administrative support</th>\n",
       "      <th>class of worker_beneficiary or investor</th>\n",
       "      <th>marital status_Single</th>\n",
       "      <th>sex_ Male</th>\n",
       "      <th>detailed household summary in household_ Householder</th>\n",
       "      <th>detailed household summary in household_ Spouse of householder</th>\n",
       "      <th>tax filer status_ Nonfiler</th>\n",
       "      <th>capital</th>\n",
       "      <th>divdends from stocks</th>\n",
       "      <th>age</th>\n",
       "      <th>weeks worked in year</th>\n",
       "      <th>education</th>\n",
       "      <th>num persons worked for employer</th>\n",
       "    </tr>\n",
       "  </thead>\n",
       "  <tbody>\n",
       "    <tr>\n",
       "      <td>0</td>\n",
       "      <td>0</td>\n",
       "      <td>0</td>\n",
       "      <td>0</td>\n",
       "      <td>0</td>\n",
       "      <td>0</td>\n",
       "      <td>0</td>\n",
       "      <td>0</td>\n",
       "      <td>0</td>\n",
       "      <td>1</td>\n",
       "      <td>0</td>\n",
       "      <td>0</td>\n",
       "      <td>0</td>\n",
       "      <td>1</td>\n",
       "      <td>0</td>\n",
       "      <td>0</td>\n",
       "      <td>6</td>\n",
       "      <td>0</td>\n",
       "      <td>2</td>\n",
       "      <td>0</td>\n",
       "    </tr>\n",
       "    <tr>\n",
       "      <td>1</td>\n",
       "      <td>0</td>\n",
       "      <td>0</td>\n",
       "      <td>0</td>\n",
       "      <td>0</td>\n",
       "      <td>1</td>\n",
       "      <td>0</td>\n",
       "      <td>0</td>\n",
       "      <td>0</td>\n",
       "      <td>1</td>\n",
       "      <td>1</td>\n",
       "      <td>1</td>\n",
       "      <td>0</td>\n",
       "      <td>0</td>\n",
       "      <td>0</td>\n",
       "      <td>0</td>\n",
       "      <td>5</td>\n",
       "      <td>2</td>\n",
       "      <td>2</td>\n",
       "      <td>1</td>\n",
       "    </tr>\n",
       "    <tr>\n",
       "      <td>2</td>\n",
       "      <td>0</td>\n",
       "      <td>0</td>\n",
       "      <td>0</td>\n",
       "      <td>0</td>\n",
       "      <td>0</td>\n",
       "      <td>0</td>\n",
       "      <td>0</td>\n",
       "      <td>0</td>\n",
       "      <td>1</td>\n",
       "      <td>0</td>\n",
       "      <td>0</td>\n",
       "      <td>0</td>\n",
       "      <td>1</td>\n",
       "      <td>0</td>\n",
       "      <td>0</td>\n",
       "      <td>2</td>\n",
       "      <td>0</td>\n",
       "      <td>2</td>\n",
       "      <td>0</td>\n",
       "    </tr>\n",
       "    <tr>\n",
       "      <td>3</td>\n",
       "      <td>0</td>\n",
       "      <td>0</td>\n",
       "      <td>0</td>\n",
       "      <td>0</td>\n",
       "      <td>0</td>\n",
       "      <td>0</td>\n",
       "      <td>0</td>\n",
       "      <td>0</td>\n",
       "      <td>1</td>\n",
       "      <td>0</td>\n",
       "      <td>0</td>\n",
       "      <td>0</td>\n",
       "      <td>1</td>\n",
       "      <td>0</td>\n",
       "      <td>0</td>\n",
       "      <td>1</td>\n",
       "      <td>0</td>\n",
       "      <td>0</td>\n",
       "      <td>0</td>\n",
       "    </tr>\n",
       "    <tr>\n",
       "      <td>4</td>\n",
       "      <td>0</td>\n",
       "      <td>0</td>\n",
       "      <td>0</td>\n",
       "      <td>0</td>\n",
       "      <td>0</td>\n",
       "      <td>0</td>\n",
       "      <td>0</td>\n",
       "      <td>0</td>\n",
       "      <td>1</td>\n",
       "      <td>0</td>\n",
       "      <td>0</td>\n",
       "      <td>0</td>\n",
       "      <td>1</td>\n",
       "      <td>0</td>\n",
       "      <td>0</td>\n",
       "      <td>1</td>\n",
       "      <td>0</td>\n",
       "      <td>0</td>\n",
       "      <td>0</td>\n",
       "    </tr>\n",
       "    <tr>\n",
       "      <td>...</td>\n",
       "      <td>...</td>\n",
       "      <td>...</td>\n",
       "      <td>...</td>\n",
       "      <td>...</td>\n",
       "      <td>...</td>\n",
       "      <td>...</td>\n",
       "      <td>...</td>\n",
       "      <td>...</td>\n",
       "      <td>...</td>\n",
       "      <td>...</td>\n",
       "      <td>...</td>\n",
       "      <td>...</td>\n",
       "      <td>...</td>\n",
       "      <td>...</td>\n",
       "      <td>...</td>\n",
       "      <td>...</td>\n",
       "      <td>...</td>\n",
       "      <td>...</td>\n",
       "      <td>...</td>\n",
       "    </tr>\n",
       "    <tr>\n",
       "      <td>367819</td>\n",
       "      <td>0</td>\n",
       "      <td>0</td>\n",
       "      <td>0</td>\n",
       "      <td>0</td>\n",
       "      <td>0</td>\n",
       "      <td>0</td>\n",
       "      <td>0</td>\n",
       "      <td>0</td>\n",
       "      <td>1</td>\n",
       "      <td>1</td>\n",
       "      <td>0</td>\n",
       "      <td>0</td>\n",
       "      <td>0</td>\n",
       "      <td>-2258</td>\n",
       "      <td>0</td>\n",
       "      <td>3</td>\n",
       "      <td>1</td>\n",
       "      <td>2</td>\n",
       "      <td>1</td>\n",
       "    </tr>\n",
       "    <tr>\n",
       "      <td>367820</td>\n",
       "      <td>0</td>\n",
       "      <td>0</td>\n",
       "      <td>0</td>\n",
       "      <td>1</td>\n",
       "      <td>0</td>\n",
       "      <td>0</td>\n",
       "      <td>0</td>\n",
       "      <td>0</td>\n",
       "      <td>0</td>\n",
       "      <td>1</td>\n",
       "      <td>1</td>\n",
       "      <td>0</td>\n",
       "      <td>0</td>\n",
       "      <td>0</td>\n",
       "      <td>0</td>\n",
       "      <td>3</td>\n",
       "      <td>2</td>\n",
       "      <td>2</td>\n",
       "      <td>6</td>\n",
       "    </tr>\n",
       "    <tr>\n",
       "      <td>367821</td>\n",
       "      <td>1</td>\n",
       "      <td>0</td>\n",
       "      <td>1</td>\n",
       "      <td>0</td>\n",
       "      <td>0</td>\n",
       "      <td>0</td>\n",
       "      <td>0</td>\n",
       "      <td>0</td>\n",
       "      <td>0</td>\n",
       "      <td>1</td>\n",
       "      <td>1</td>\n",
       "      <td>0</td>\n",
       "      <td>0</td>\n",
       "      <td>0</td>\n",
       "      <td>1100</td>\n",
       "      <td>3</td>\n",
       "      <td>2</td>\n",
       "      <td>3</td>\n",
       "      <td>4</td>\n",
       "    </tr>\n",
       "    <tr>\n",
       "      <td>367822</td>\n",
       "      <td>0</td>\n",
       "      <td>0</td>\n",
       "      <td>1</td>\n",
       "      <td>0</td>\n",
       "      <td>0</td>\n",
       "      <td>0</td>\n",
       "      <td>0</td>\n",
       "      <td>0</td>\n",
       "      <td>1</td>\n",
       "      <td>0</td>\n",
       "      <td>0</td>\n",
       "      <td>0</td>\n",
       "      <td>0</td>\n",
       "      <td>-2258</td>\n",
       "      <td>2000</td>\n",
       "      <td>3</td>\n",
       "      <td>2</td>\n",
       "      <td>2</td>\n",
       "      <td>3</td>\n",
       "    </tr>\n",
       "    <tr>\n",
       "      <td>367823</td>\n",
       "      <td>0</td>\n",
       "      <td>0</td>\n",
       "      <td>0</td>\n",
       "      <td>0</td>\n",
       "      <td>0</td>\n",
       "      <td>0</td>\n",
       "      <td>1</td>\n",
       "      <td>0</td>\n",
       "      <td>1</td>\n",
       "      <td>0</td>\n",
       "      <td>1</td>\n",
       "      <td>0</td>\n",
       "      <td>0</td>\n",
       "      <td>0</td>\n",
       "      <td>0</td>\n",
       "      <td>3</td>\n",
       "      <td>2</td>\n",
       "      <td>3</td>\n",
       "      <td>6</td>\n",
       "    </tr>\n",
       "  </tbody>\n",
       "</table>\n",
       "<p>367824 rows × 19 columns</p>\n",
       "</div>"
      ],
      "text/plain": [
       "        industry code_Services  industry code_Wholesale and retail trade  \\\n",
       "0                            0                                         0   \n",
       "1                            0                                         0   \n",
       "2                            0                                         0   \n",
       "3                            0                                         0   \n",
       "4                            0                                         0   \n",
       "...                        ...                                       ...   \n",
       "367819                       0                                         0   \n",
       "367820                       0                                         0   \n",
       "367821                       1                                         0   \n",
       "367822                       0                                         0   \n",
       "367823                       0                                         0   \n",
       "\n",
       "        occupation code_Managerial and professional speciality  \\\n",
       "0                                                       0        \n",
       "1                                                       0        \n",
       "2                                                       0        \n",
       "3                                                       0        \n",
       "4                                                       0        \n",
       "...                                                   ...        \n",
       "367819                                                  0        \n",
       "367820                                                  0        \n",
       "367821                                                  1        \n",
       "367822                                                  1        \n",
       "367823                                                  0        \n",
       "\n",
       "        occupation code_Operators, fabricators and laborers  \\\n",
       "0                                                       0     \n",
       "1                                                       0     \n",
       "2                                                       0     \n",
       "3                                                       0     \n",
       "4                                                       0     \n",
       "...                                                   ...     \n",
       "367819                                                  0     \n",
       "367820                                                  1     \n",
       "367821                                                  0     \n",
       "367822                                                  0     \n",
       "367823                                                  0     \n",
       "\n",
       "        occupation code_Precision production, craft and repair  \\\n",
       "0                                                       0        \n",
       "1                                                       1        \n",
       "2                                                       0        \n",
       "3                                                       0        \n",
       "4                                                       0        \n",
       "...                                                   ...        \n",
       "367819                                                  0        \n",
       "367820                                                  0        \n",
       "367821                                                  0        \n",
       "367822                                                  0        \n",
       "367823                                                  0        \n",
       "\n",
       "        occupation code_Service Occupations  \\\n",
       "0                                         0   \n",
       "1                                         0   \n",
       "2                                         0   \n",
       "3                                         0   \n",
       "4                                         0   \n",
       "...                                     ...   \n",
       "367819                                    0   \n",
       "367820                                    0   \n",
       "367821                                    0   \n",
       "367822                                    0   \n",
       "367823                                    0   \n",
       "\n",
       "        occupation code_Technical, sales and administrative support  \\\n",
       "0                                                       0             \n",
       "1                                                       0             \n",
       "2                                                       0             \n",
       "3                                                       0             \n",
       "4                                                       0             \n",
       "...                                                   ...             \n",
       "367819                                                  0             \n",
       "367820                                                  0             \n",
       "367821                                                  0             \n",
       "367822                                                  0             \n",
       "367823                                                  1             \n",
       "\n",
       "        class of worker_beneficiary or investor  marital status_Single  \\\n",
       "0                                             0                      1   \n",
       "1                                             0                      1   \n",
       "2                                             0                      1   \n",
       "3                                             0                      1   \n",
       "4                                             0                      1   \n",
       "...                                         ...                    ...   \n",
       "367819                                        0                      1   \n",
       "367820                                        0                      0   \n",
       "367821                                        0                      0   \n",
       "367822                                        0                      1   \n",
       "367823                                        0                      1   \n",
       "\n",
       "        sex_ Male  detailed household summary in household_ Householder  \\\n",
       "0               0                                                  0      \n",
       "1               1                                                  1      \n",
       "2               0                                                  0      \n",
       "3               0                                                  0      \n",
       "4               0                                                  0      \n",
       "...           ...                                                ...      \n",
       "367819          1                                                  0      \n",
       "367820          1                                                  1      \n",
       "367821          1                                                  1      \n",
       "367822          0                                                  0      \n",
       "367823          0                                                  1      \n",
       "\n",
       "        detailed household summary in household_ Spouse of householder  \\\n",
       "0                                                       0                \n",
       "1                                                       0                \n",
       "2                                                       0                \n",
       "3                                                       0                \n",
       "4                                                       0                \n",
       "...                                                   ...                \n",
       "367819                                                  0                \n",
       "367820                                                  0                \n",
       "367821                                                  0                \n",
       "367822                                                  0                \n",
       "367823                                                  0                \n",
       "\n",
       "        tax filer status_ Nonfiler  capital  divdends from stocks  age  \\\n",
       "0                                1        0                     0    6   \n",
       "1                                0        0                     0    5   \n",
       "2                                1        0                     0    2   \n",
       "3                                1        0                     0    1   \n",
       "4                                1        0                     0    1   \n",
       "...                            ...      ...                   ...  ...   \n",
       "367819                           0    -2258                     0    3   \n",
       "367820                           0        0                     0    3   \n",
       "367821                           0        0                  1100    3   \n",
       "367822                           0    -2258                  2000    3   \n",
       "367823                           0        0                     0    3   \n",
       "\n",
       "        weeks worked in year  education  num persons worked for employer  \n",
       "0                          0          2                                0  \n",
       "1                          2          2                                1  \n",
       "2                          0          2                                0  \n",
       "3                          0          0                                0  \n",
       "4                          0          0                                0  \n",
       "...                      ...        ...                              ...  \n",
       "367819                     1          2                                1  \n",
       "367820                     2          2                                6  \n",
       "367821                     2          3                                4  \n",
       "367822                     2          2                                3  \n",
       "367823                     2          3                                6  \n",
       "\n",
       "[367824 rows x 19 columns]"
      ]
     },
     "execution_count": 155,
     "metadata": {},
     "output_type": "execute_result"
    }
   ],
   "source": [
    "X_train_sm"
   ]
  },
  {
   "cell_type": "code",
   "execution_count": 145,
   "metadata": {},
   "outputs": [
    {
     "data": {
      "text/plain": [
       "GradientBoostingClassifier(ccp_alpha=0.0, criterion='friedman_mse', init=None,\n",
       "                           learning_rate=0.1, loss='deviance', max_depth=3,\n",
       "                           max_features=None, max_leaf_nodes=None,\n",
       "                           min_impurity_decrease=0.0, min_impurity_split=None,\n",
       "                           min_samples_leaf=1, min_samples_split=2,\n",
       "                           min_weight_fraction_leaf=0.0, n_estimators=100,\n",
       "                           n_iter_no_change=None, presort='deprecated',\n",
       "                           random_state=None, subsample=1.0, tol=0.0001,\n",
       "                           validation_fraction=0.1, verbose=0,\n",
       "                           warm_start=False)"
      ]
     },
     "execution_count": 145,
     "metadata": {},
     "output_type": "execute_result"
    }
   ],
   "source": [
    "from sklearn.ensemble import GradientBoostingClassifier\n",
    "gbc = GradientBoostingClassifier()\n",
    "\n",
    "gbc.fit(X_train_sm, y_train_sm)"
   ]
  },
  {
   "cell_type": "code",
   "execution_count": 146,
   "metadata": {},
   "outputs": [],
   "source": [
    "y_pred = gbc.predict(X_test_dummy)\n",
    "\n",
    "y_prob = gbc.predict_proba(X_test_dummy)[:,1] \n",
    "\n",
    "from sklearn.metrics import accuracy_score, confusion_matrix, roc_auc_score, roc_curve, auc, classification_report\n",
    "\n",
    "score = accuracy_score(y_test_dummy,y_pred)\n",
    "cm = confusion_matrix(y_test_dummy,y_pred)\n",
    "roc_score = roc_auc_score(y_test_dummy,y_prob)\n",
    "gbc_report=classification_report(y_test_dummy,y_pred)"
   ]
  },
  {
   "cell_type": "code",
   "execution_count": 147,
   "metadata": {},
   "outputs": [
    {
     "data": {
      "text/plain": [
       "0.8598965537980393"
      ]
     },
     "execution_count": 147,
     "metadata": {},
     "output_type": "execute_result"
    }
   ],
   "source": [
    "score"
   ]
  },
  {
   "cell_type": "code",
   "execution_count": 148,
   "metadata": {},
   "outputs": [
    {
     "data": {
      "text/plain": [
       "array([[80562, 13014],\n",
       "       [  963,  5223]], dtype=int64)"
      ]
     },
     "execution_count": 148,
     "metadata": {},
     "output_type": "execute_result"
    }
   ],
   "source": [
    "cm"
   ]
  },
  {
   "cell_type": "code",
   "execution_count": 149,
   "metadata": {},
   "outputs": [
    {
     "data": {
      "text/plain": [
       "0.9330264728637785"
      ]
     },
     "execution_count": 149,
     "metadata": {},
     "output_type": "execute_result"
    }
   ],
   "source": [
    "roc_score"
   ]
  },
  {
   "cell_type": "code",
   "execution_count": 150,
   "metadata": {},
   "outputs": [
    {
     "data": {
      "image/png": "[encoded data removed]",
      "text/plain": [
       "<Figure size 720x360 with 2 Axes>"
      ]
     },
     "metadata": {
      "needs_background": "light"
     },
     "output_type": "display_data"
    }
   ],
   "source": [
    "####### AUC-ROC-Curve:\n",
    "\n",
    "fpr, tpr, thresh = roc_curve(y_test_dummy, y_prob )\n",
    "\n",
    "thresh[thresh>1] = 1\n",
    "\n",
    "fig,ax = plt.subplots(figsize=(10,5))\n",
    "ax.plot(fpr,tpr)\n",
    "ax.plot(fpr,fpr,'r')\n",
    "ax1 = ax.twinx()\n",
    "ax1.plot(fpr,thresh,'g')\n",
    "plt.show()"
   ]
  },
  {
   "cell_type": "code",
   "execution_count": 151,
   "metadata": {},
   "outputs": [
    {
     "name": "stdout",
     "output_type": "stream",
     "text": [
      "              precision    recall  f1-score   support\n",
      "\n",
      "           0       0.99      0.86      0.92     93576\n",
      "           1       0.29      0.84      0.43      6186\n",
      "\n",
      "    accuracy                           0.86     99762\n",
      "   macro avg       0.64      0.85      0.67     99762\n",
      "weighted avg       0.94      0.86      0.89     99762\n",
      "\n"
     ]
    }
   ],
   "source": [
    "print(gbc_report)"
   ]
  },
  {
   "cell_type": "code",
   "execution_count": null,
   "metadata": {},
   "outputs": [],
   "source": []
  }
 ],
 "metadata": {
  "kernelspec": {
   "display_name": "Python 3",
   "language": "python",
   "name": "python3"
  },
  "language_info": {
   "codemirror_mode": {
    "name": "ipython",
    "version": 3
   },
   "file_extension": ".py",
   "mimetype": "text/x-python",
   "name": "python",
   "nbconvert_exporter": "python",
   "pygments_lexer": "ipython3",
   "version": "3.7.3"
  }
 },
 "nbformat": 4,
 "nbformat_minor": 2
}
